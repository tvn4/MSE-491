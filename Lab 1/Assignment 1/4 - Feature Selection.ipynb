{
 "cells": [
  {
   "cell_type": "markdown",
   "metadata": {},
   "source": [
    "# Simon Fraser University - Mechatronic Systems Engineering\n",
    "## Spring 2022 - MSE491 - Application of Machine Learning in Mechatronic Systems\n",
    "## Instructor: Dr. Mohammad Narimani\n",
    "\n",
    "## Lab 1 - Regression\n",
    "\n",
    "#### @Original content author: Amin Kabir - kabir@sfu.ca\n"
   ]
  },
  {
   "cell_type": "code",
   "execution_count": 1,
   "metadata": {},
   "outputs": [],
   "source": [
    "# Load General Libraries\n",
    "\n",
    "import numpy as np\n",
    "# NumPy is a Python library used for working with arrays.\n",
    "# It also has functions for working in domain of linear algebra, fourier transform, and matrices.\n",
    "\n",
    "import pandas as pd\n",
    "# For data manipulation and analysis.\n",
    "# data structures and operations for manipulating numerical tables and time series.\n",
    "\n",
    "import pickle\n",
    "# for serializing and de-serializing a Python object structure.\n",
    "# Any object in Python can be pickled so that it can be saved on disk\n",
    "# Pickling is a way to convert a python object (list, dict, etc.) into a character stream\n",
    "# which contains all the information necessary to reconstruct the object in another python script.\n",
    "\n",
    "import matplotlib.pyplot as plt\n",
    "# data visualization and graphical plotting library \n",
    "\n",
    "import seaborn as sns\n",
    "# a library for making statistical graphics in Python"
   ]
  },
  {
   "cell_type": "code",
   "execution_count": 2,
   "metadata": {},
   "outputs": [],
   "source": [
    "# load data from Q1\n",
    "%store -r df F T F_train F_test T_train T_test"
   ]
  },
  {
   "cell_type": "code",
   "execution_count": 7,
   "metadata": {},
   "outputs": [
    {
     "name": "stdout",
     "output_type": "stream",
     "text": [
      "           TEY        CO\n",
      "AT   -0.091152 -0.174326\n",
      "AP    0.118224  0.067050\n",
      "AH   -0.137360  0.106586\n",
      "AFDP  0.665483 -0.448425\n",
      "GTEP  0.964127 -0.518909\n",
      "TIT   0.910297 -0.706275\n",
      "TAT  -0.682396  0.058353\n",
      "CDP   0.988778 -0.551027\n"
     ]
    },
    {
     "data": {
      "text/plain": [
       "Text(33.0, 0.5, 'Features')"
      ]
     },
     "execution_count": 7,
     "metadata": {},
     "output_type": "execute_result"
    },
    {
     "data": {
      "image/png": "[encoded data removed]",
      "text/plain": [
       "<Figure size 432x288 with 2 Axes>"
      ]
     },
     "metadata": {
      "needs_background": "light"
     },
     "output_type": "display_data"
    }
   ],
   "source": [
    "# Heat map for r-values of features vs targets\n",
    "r = df.corr().iloc[:8, 8:10]\n",
    "print(r)\n",
    "\n",
    "# plt.figure(figsize=(25,10))\n",
    "sns.heatmap(r,annot=True, cmap = sns.diverging_palette(240, 10, n=9))\n",
    "plt.title('Heat Map of r-values of Features vs Targets')\n",
    "plt.xlabel('Targets')\n",
    "plt.ylabel('Features')"
   ]
  },
  {
   "cell_type": "code",
   "execution_count": 14,
   "metadata": {},
   "outputs": [
    {
     "name": "stdout",
     "output_type": "stream",
     "text": [
      "            AT      AP      AH    AFDP    GTEP     TIT     TAT     CDP\n",
      "20283  25.6180  1011.8  83.660  5.1749  25.785  1091.8  549.84  12.196\n",
      "16135   8.1445  1016.8  82.759  3.0298  23.676  1084.4  549.99  11.758\n",
      "31653  19.8900  1014.7  50.870  3.4682  27.691  1085.9  549.65  12.272\n",
      "24788  21.7360  1004.8  61.101  4.6942  32.077  1100.0  539.13  13.546\n",
      "35515  12.6360  1026.7  67.414  2.6479  18.974  1048.4  549.53  10.325\n",
      "...        ...     ...     ...     ...     ...     ...     ...     ...\n",
      "20757  21.4400  1016.4  69.872  4.0975  31.548  1100.0  535.98  13.466\n",
      "32103  19.7770  1010.2  48.017  3.7177  26.939  1092.7  549.99  12.512\n",
      "30403  13.8980  1014.5  58.938  4.0997  34.999  1099.9  539.86  13.573\n",
      "21243  17.0020  1020.9  89.051  4.1599  32.377  1100.0  532.23  13.743\n",
      "2732   18.9340  1014.5  82.974  4.5034  31.518  1100.3  533.56  13.754\n",
      "\n",
      "[29386 rows x 8 columns]\n"
     ]
    }
   ],
   "source": [
    "print(F_train)"
   ]
  },
  {
   "cell_type": "code",
   "execution_count": 39,
   "metadata": {
    "scrolled": true
   },
   "outputs": [],
   "source": [
    "## Model building\n",
    "from sklearn.linear_model import LinearRegression\n",
    "\n",
    "# TEY - top four features: CDP, TIT, GTEP, (AFTP or TAT)? \n",
    "mlr_TEY = LinearRegression().fit(F_train[['TIT', 'CDP', 'GTEP', 'AFDP']], T_train['TEY'])\n",
    "\n",
    "#CO - top four features \n",
    "mlr_CO = LinearRegression().fit(F_train[['TIT', 'CDP', 'GTEP', 'AFDP']], T_train['CO'])"
   ]
  },
  {
   "cell_type": "code",
   "execution_count": 40,
   "metadata": {},
   "outputs": [
    {
     "name": "stdout",
     "output_type": "stream",
     "text": [
      "\n",
      "MLR Model (TEY): r-squared = 0.980090, RMSE = 2.227878\n",
      "\n",
      "MLR Model (CO): r-squared = 0.484101, RMSE = 1.622044\n"
     ]
    }
   ],
   "source": [
    "## Model evalutation\n",
    "from math import sqrt\n",
    "from sklearn.metrics import r2_score, mean_squared_error as MSE\n",
    "\n",
    "r2, RMSE, yp = [], [], []\n",
    "\n",
    "\n",
    "\n",
    "for n in range(2):\n",
    "    if n == 0:\n",
    "        mlr = mlr_TEY\n",
    "        target = 'TEY'\n",
    "    else:\n",
    "        mlr = mlr_CO\n",
    "        target = 'CO'\n",
    "    \n",
    "    yp.append(mlr.predict(F_test[['TIT', 'CDP', 'GTEP', 'AFDP']]).astype('int64'))\n",
    "    r2.append(r2_score(T_test[target], yp[n]))\n",
    "    RMSE.append([('%s' %target), sqrt(MSE(T_test[target], yp[n]))])\n",
    "    \n",
    "    print('\\nMLR Model (%s): r-squared = %f, RMSE = %f' %(target, r2[n], RMSE[n][1]))"
   ]
  },
  {
   "cell_type": "code",
   "execution_count": 43,
   "metadata": {},
   "outputs": [
    {
     "data": {
      "text/plain": [
       "<BarContainer object of 2 artists>"
      ]
     },
     "execution_count": 43,
     "metadata": {},
     "output_type": "execute_result"
    },
    {
     "data": {
      "image/png": "[encoded data removed]",
      "text/plain": [
       "<Figure size 432x288 with 1 Axes>"
      ]
     },
     "metadata": {
      "needs_background": "light"
     },
     "output_type": "display_data"
    }
   ],
   "source": [
    "## Barchart of RMSE Values\n",
    "\n",
    "RMSE_df = pd.DataFrame (RMSE, columns = ['Feature', 'RMSE'])  \n",
    "plt.bar(RMSE_df.iloc[:,0],RMSE_df.iloc[:,1])"
   ]
  },
  {
   "cell_type": "code",
   "execution_count": null,
   "metadata": {},
   "outputs": [],
   "source": []
  }
 ],
 "metadata": {
  "kernelspec": {
   "display_name": "Python 3 (ipykernel)",
   "language": "python",
   "name": "python3"
  },
  "language_info": {
   "codemirror_mode": {
    "name": "ipython",
    "version": 3
   },
   "file_extension": ".py",
   "mimetype": "text/x-python",
   "name": "python",
   "nbconvert_exporter": "python",
   "pygments_lexer": "ipython3",
   "version": "3.9.7"
  },
  "varInspector": {
   "cols": {
    "lenName": 16,
    "lenType": 16,
    "lenVar": 40
   },
   "kernels_config": {
    "python": {
     "delete_cmd_postfix": "",
     "delete_cmd_prefix": "del ",
     "library": "var_list.py",
     "varRefreshCmd": "print(var_dic_list())"
    },
    "r": {
     "delete_cmd_postfix": ") ",
     "delete_cmd_prefix": "rm(",
     "library": "var_list.r",
     "varRefreshCmd": "cat(var_dic_list()) "
    }
   },
   "oldHeight": 536.844,
   "position": {
    "height": "558.844px",
    "left": "1401px",
    "right": "20px",
    "top": "58px",
    "width": "517px"
   },
   "types_to_exclude": [
    "module",
    "function",
    "builtin_function_or_method",
    "instance",
    "_Feature"
   ],
   "varInspector_section_display": "block",
   "window_display": true
  }
 },
 "nbformat": 4,
 "nbformat_minor": 4
}
