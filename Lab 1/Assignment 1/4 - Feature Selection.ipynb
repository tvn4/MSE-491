{
 "cells": [
  {
   "cell_type": "markdown",
   "metadata": {},
   "source": [
    "# Simon Fraser University - Mechatronic Systems Engineering\n",
    "## Spring 2022 - MSE491 - Application of Machine Learning in Mechatronic Systems\n",
    "## Instructor: Dr. Mohammad Narimani\n",
    "\n",
    "## Assignment 1 - Regression\n",
    "\n",
    "#### Original author: Tony Vu Nguyen (301286979) - tvn4@sfu.ca\n",
    "#### Created: Feb 10, 2022\n",
    "#### Modified: Feb 10, 2022"
   ]
  },
  {
   "cell_type": "code",
   "execution_count": 1,
   "metadata": {},
   "outputs": [],
   "source": [
    "# Load General Libraries\n",
    "\n",
    "import numpy as np\n",
    "# NumPy is a Python library used for working with arrays.\n",
    "# It also has functions for working in domain of linear algebra, fourier transform, and matrices.\n",
    "\n",
    "import pandas as pd\n",
    "# For data manipulation and analysis.\n",
    "# data structures and operations for manipulating numerical tables and time series.\n",
    "\n",
    "import pickle\n",
    "# for serializing and de-serializing a Python object structure.\n",
    "# Any object in Python can be pickled so that it can be saved on disk\n",
    "# Pickling is a way to convert a python object (list, dict, etc.) into a character stream\n",
    "# which contains all the information necessary to reconstruct the object in another python script.\n",
    "\n",
    "import matplotlib.pyplot as plt\n",
    "# data visualization and graphical plotting library \n",
    "\n",
    "import seaborn as sns\n",
    "# a library for making statistical graphics in Python"
   ]
  },
  {
   "cell_type": "code",
   "execution_count": 2,
   "metadata": {},
   "outputs": [],
   "source": [
    "# load data from Q1\n",
    "%store -r df F T F_train F_test T_train T_test"
   ]
  },
  {
   "cell_type": "code",
   "execution_count": 7,
   "metadata": {
    "scrolled": false
   },
   "outputs": [
    {
     "name": "stdout",
     "output_type": "stream",
     "text": [
      "           TEY        CO\n",
      "AT   -0.091152 -0.174326\n",
      "AP    0.118224  0.067050\n",
      "AH   -0.137360  0.106586\n",
      "AFDP  0.665483 -0.448425\n",
      "GTEP  0.964127 -0.518909\n",
      "TIT   0.910297 -0.706275\n",
      "TAT  -0.682396  0.058353\n",
      "CDP   0.988778 -0.551027\n"
     ]
    },
    {
     "data": {
      "text/plain": [
       "Text(33.0, 0.5, 'Features')"
      ]
     },
     "execution_count": 7,
     "metadata": {},
     "output_type": "execute_result"
    },
    {
     "data": {
      "image/png": "[encoded data removed]",
      "text/plain": [
       "<Figure size 432x288 with 2 Axes>"
      ]
     },
     "metadata": {
      "needs_background": "light"
     },
     "output_type": "display_data"
    }
   ],
   "source": [
    "# Heat map for r-values of features vs targets\n",
    "r = df.corr().iloc[:8, 8:10]\n",
    "print(r)\n",
    "\n",
    "# plt.figure(figsize=(25,10))\n",
    "sns.heatmap(r,annot=True, cmap = sns.diverging_palette(240, 10, n=9))\n",
    "plt.title('Heat Map of r-values: Features vs Targets')\n",
    "plt.xlabel('Targets')\n",
    "plt.ylabel('Features')"
   ]
  },
  {
   "cell_type": "code",
   "execution_count": 4,
   "metadata": {
    "scrolled": true
   },
   "outputs": [],
   "source": [
    "## Model building\n",
    "from sklearn.linear_model import LinearRegression\n",
    "\n",
    "# TEY - top four features: CDP, TIT, GTEP, (AFTP or TAT)? \n",
    "mlr_TEY = LinearRegression().fit(F_train[['TIT', 'CDP', 'GTEP', 'AFDP']], T_train['TEY'])\n",
    "\n",
    "#CO - top four features \n",
    "mlr_CO = LinearRegression().fit(F_train[['TIT', 'CDP', 'GTEP', 'AFDP']], T_train['CO'])"
   ]
  },
  {
   "cell_type": "code",
   "execution_count": 5,
   "metadata": {},
   "outputs": [
    {
     "name": "stdout",
     "output_type": "stream",
     "text": [
      "\n",
      "MLR Model (TEY): r-squared = 0.980090, RMSE = 2.227878\n",
      "\n",
      "MLR Model (CO): r-squared = 0.484101, RMSE = 1.622044\n"
     ]
    }
   ],
   "source": [
    "## Model evalutation\n",
    "from math import sqrt\n",
    "from sklearn.metrics import r2_score, mean_squared_error as MSE\n",
    "\n",
    "r2, RMSE, yp = [], [], []\n",
    "\n",
    "\n",
    "for n in range(2):\n",
    "    if n == 0:\n",
    "        mlr = mlr_TEY\n",
    "        target = 'TEY'\n",
    "    else:\n",
    "        mlr = mlr_CO\n",
    "        target = 'CO'\n",
    "    \n",
    "    yp.append(mlr.predict(F_test[['TIT', 'CDP', 'GTEP', 'AFDP']]).astype('int64'))\n",
    "    r2.append(r2_score(T_test[target], yp[n]))\n",
    "    RMSE.append([('%s' %target), sqrt(MSE(T_test[target], yp[n]))])\n",
    "    \n",
    "    print('\\nMLR Model (%s): r-squared = %f, RMSE = %f' %(target, r2[n], RMSE[n][1]))"
   ]
  },
  {
   "cell_type": "code",
   "execution_count": 6,
   "metadata": {},
   "outputs": [
    {
     "data": {
      "text/plain": [
       "<BarContainer object of 2 artists>"
      ]
     },
     "execution_count": 6,
     "metadata": {},
     "output_type": "execute_result"
    },
    {
     "data": {
      "image/png": "[encoded data removed]",
      "text/plain": [
       "<Figure size 432x288 with 1 Axes>"
      ]
     },
     "metadata": {
      "needs_background": "light"
     },
     "output_type": "display_data"
    }
   ],
   "source": [
    "## Barchart of RMSE Values\n",
    "\n",
    "RMSE_df = pd.DataFrame (RMSE, columns = ['Feature', 'RMSE'])  \n",
    "plt.bar(RMSE_df.iloc[:,0],RMSE_df.iloc[:,1])"
   ]
  }
 ],
 "metadata": {
  "kernelspec": {
   "display_name": "Python 3 (ipykernel)",
   "language": "python",
   "name": "python3"
  },
  "language_info": {
   "codemirror_mode": {
    "name": "ipython",
    "version": 3
   },
   "file_extension": ".py",
   "mimetype": "text/x-python",
   "name": "python",
   "nbconvert_exporter": "python",
   "pygments_lexer": "ipython3",
   "version": "3.9.7"
  },
  "varInspector": {
   "cols": {
    "lenName": 16,
    "lenType": 16,
    "lenVar": 40
   },
   "kernels_config": {
    "python": {
     "delete_cmd_postfix": "",
     "delete_cmd_prefix": "del ",
     "library": "var_list.py",
     "varRefreshCmd": "print(var_dic_list())"
    },
    "r": {
     "delete_cmd_postfix": ") ",
     "delete_cmd_prefix": "rm(",
     "library": "var_list.r",
     "varRefreshCmd": "cat(var_dic_list()) "
    }
   },
   "oldHeight": 536.844,
   "position": {
    "height": "560.844px",
    "left": "1443px",
    "right": "20px",
    "top": "45px",
    "width": "455px"
   },
   "types_to_exclude": [
    "module",
    "function",
    "builtin_function_or_method",
    "instance",
    "_Feature"
   ],
   "varInspector_section_display": "block",
   "window_display": true
  }
 },
 "nbformat": 4,
 "nbformat_minor": 4
}
