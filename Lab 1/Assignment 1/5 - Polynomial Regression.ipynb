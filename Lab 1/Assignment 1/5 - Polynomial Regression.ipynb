{
 "cells": [
  {
   "cell_type": "markdown",
   "metadata": {},
   "source": [
    "# Simon Fraser University - Mechatronic Systems Engineering\n",
    "## Spring 2022 - MSE491 - Application of Machine Learning in Mechatronic Systems\n",
    "## Instructor: Dr. Mohammad Narimani\n",
    "\n",
    "## Assignment 1 - Regression\n",
    "## Question 5 - Polynomial Regression\n",
    "\n",
    "#### Original author: Tony Vu Nguyen (301286979) - tvn4@sfu.ca\n",
    "#### Created: Feb 10, 2022\n",
    "#### Modified: Feb 14, 2022"
   ]
  },
  {
   "cell_type": "code",
   "execution_count": 1,
   "metadata": {},
   "outputs": [],
   "source": [
    "# Load General Libraries\n",
    "\n",
    "import numpy as np\n",
    "# NumPy is a Python library used for working with arrays.\n",
    "# It also has functions for working in domain of linear algebra, fourier transform, and matrices.\n",
    "\n",
    "import pandas as pd\n",
    "# For data manipulation and analysis.\n",
    "# data structures and operations for manipulating numerical tables and time series.\n",
    "\n",
    "import pickle\n",
    "# for serializing and de-serializing a Python object structure.\n",
    "# Any object in Python can be pickled so that it can be saved on disk\n",
    "# Pickling is a way to convert a python object (list, dict, etc.) into a character stream\n",
    "# which contains all the information necessary to reconstruct the object in another python script.\n",
    "\n",
    "import matplotlib.pyplot as plt\n",
    "# data visualization and graphical plotting library \n",
    "\n",
    "import seaborn as sns\n",
    "# a library for making statistical graphics in Python"
   ]
  },
  {
   "cell_type": "code",
   "execution_count": 2,
   "metadata": {},
   "outputs": [],
   "source": [
    "# load data from Q1\n",
    "%store -r df F T F_train F_test T_train T_test"
   ]
  },
  {
   "cell_type": "markdown",
   "metadata": {},
   "source": [
    "### 1 - Polynomial Regression"
   ]
  },
  {
   "cell_type": "code",
   "execution_count": 15,
   "metadata": {
    "scrolled": true
   },
   "outputs": [],
   "source": [
    "#%% Polynomial Regression with 1 Feature for visualization\n",
    "import random\n",
    "from sklearn import preprocessing\n",
    "from sklearn.pipeline import make_pipeline\n",
    "from sklearn.preprocessing import PolynomialFeatures\n",
    "from sklearn.linear_model import LinearRegression\n",
    "\n",
    "# Four features from Q4 and one target (TEY) due to memory issues\n",
    "x_train = F_train[['TIT', 'CDP', 'GTEP', 'AFDP']]\n",
    "y_train = T_train['TEY']\n",
    "\n",
    "x_test = F_test[['TIT', 'CDP', 'GTEP', 'AFDP']]\n",
    "y_test = T_test['TEY']\n",
    "\n",
    "# Standardizing features by removing the mean and scaling to unit variance\n",
    "scaler = preprocessing.StandardScaler()\n",
    "degree = [2, 4, 5, 7, 9, 11] #degree of polynomial\n",
    "\n",
    "## Model Creation\n",
    "model_poly = []\n",
    "\n",
    "for n in range(len(degree)):\n",
    "    #model_poly.append(make_pipeline(PolynomialFeatures(degree[n]),scaler,LinearRegression())) #scaler causes errors?\n",
    "    model_poly.append(make_pipeline(PolynomialFeatures(degree[n]),LinearRegression()))\n",
    "    model_poly[n].fit(x_train, y_train)"
   ]
  },
  {
   "cell_type": "code",
   "execution_count": 23,
   "metadata": {
    "scrolled": false
   },
   "outputs": [
    {
     "name": "stdout",
     "output_type": "stream",
     "text": [
      "\n",
      "Polynomial Regression Model -Test (Degree = 2): r-squared = 0.985812, RMSE = 1.880682\n",
      "\n",
      "Polynomial Regression Model -Test (Degree = 4): r-squared = 0.988587, RMSE = 1.686757\n",
      "\n",
      "Polynomial Regression Model -Test (Degree = 5): r-squared = 0.978223, RMSE = 2.329957\n",
      "\n",
      "Polynomial Regression Model -Test (Degree = 7): r-squared = 0.988146, RMSE = 1.719048\n",
      "\n",
      "Polynomial Regression Model -Test (Degree = 9): r-squared = 0.987941, RMSE = 1.733824\n",
      "\n",
      "Polynomial Regression Model -Test (Degree = 11): r-squared = 0.986756, RMSE = 1.817045\n",
      "\n",
      "Polynomial Regression Model -Test (Degree = 15): r-squared = 0.988808, RMSE = 1.670359\n"
     ]
    }
   ],
   "source": [
    "# Model evalution\n",
    "from math import sqrt\n",
    "from sklearn.metrics import r2_score, mean_squared_error as MSE\n",
    "yp, r2, RMSE = [], [], []\n",
    " \n",
    "for n in range(len(degree)):\n",
    "    yp.append(model_poly[n].predict(x_test))\n",
    "    r2.append(r2_score(y_test, yp[n]))\n",
    "    RMSE.append([('%i' %degree[n]), sqrt(MSE(y_test, yp[n]))])\n",
    "    \n",
    "    \n",
    "    print('\\nPolynomial Regression Model -Test (Degree = %i): r-squared = %f, RMSE = %f' %(degree[n], r2[n], RMSE[n][1]))"
   ]
  },
  {
   "cell_type": "code",
   "execution_count": 24,
   "metadata": {},
   "outputs": [
    {
     "name": "stdout",
     "output_type": "stream",
     "text": [
      "\n",
      "Polynomial Regression Model - Train (Degree = 2): r-squared = 0.985152, RMSE = 1.897880\n",
      "\n",
      "Polynomial Regression Model - Train (Degree = 4): r-squared = 0.987946, RMSE = 1.709996\n",
      "\n",
      "Polynomial Regression Model - Train (Degree = 5): r-squared = 0.987849, RMSE = 1.716893\n",
      "\n",
      "Polynomial Regression Model - Train (Degree = 7): r-squared = 0.987798, RMSE = 1.720482\n",
      "\n",
      "Polynomial Regression Model - Train (Degree = 9): r-squared = 0.987703, RMSE = 1.727138\n",
      "\n",
      "Polynomial Regression Model - Train (Degree = 11): r-squared = 0.986574, RMSE = 1.804714\n",
      "\n",
      "Polynomial Regression Model - Train (Degree = 15): r-squared = 0.988586, RMSE = 1.663971\n"
     ]
    }
   ],
   "source": [
    "yp_train, r2_train, RMSE_train = [], [], []\n",
    " \n",
    "for n in range(len(degree)):\n",
    "    yp_train.append(model_poly[n].predict(x_train))\n",
    "    r2_train.append(r2_score(y_train, yp_train[n]))\n",
    "    RMSE_train.append([('%i' %degree[n]), sqrt(MSE(y_train, yp_train[n]))])\n",
    "    print('\\nPolynomial Regression Model - Train (Degree = %i): r-squared = %f, RMSE = %f' %(degree[n], r2_train[n], RMSE_train[n][1]))\n",
    "    "
   ]
  },
  {
   "cell_type": "code",
   "execution_count": 18,
   "metadata": {},
   "outputs": [
    {
     "data": {
      "text/plain": [
       "Text(0, 0.5, 'RMSE')"
      ]
     },
     "execution_count": 18,
     "metadata": {},
     "output_type": "execute_result"
    },
    {
     "data": {
      "image/png": "[encoded data removed]",
      "text/plain": [
       "<Figure size 432x288 with 1 Axes>"
      ]
     },
     "metadata": {
      "needs_background": "light"
     },
     "output_type": "display_data"
    }
   ],
   "source": [
    "## Barchart of RMSE Values\n",
    "RMSE_df = pd.DataFrame (RMSE, columns = ['Degree', 'RMSE'])    \n",
    "plt.bar(RMSE_df['Degree'],RMSE_df['RMSE'])\n",
    "plt.title('RMSE Values of Polymonial Regression Models of Varying Degrees')\n",
    "plt.xlabel('Polynomial Degree')\n",
    "plt.ylabel('RMSE')"
   ]
  },
  {
   "cell_type": "code",
   "execution_count": null,
   "metadata": {},
   "outputs": [],
   "source": []
  }
 ],
 "metadata": {
  "kernelspec": {
   "display_name": "Python 3 (ipykernel)",
   "language": "python",
   "name": "python3"
  },
  "language_info": {
   "codemirror_mode": {
    "name": "ipython",
    "version": 3
   },
   "file_extension": ".py",
   "mimetype": "text/x-python",
   "name": "python",
   "nbconvert_exporter": "python",
   "pygments_lexer": "ipython3",
   "version": "3.9.7"
  },
  "varInspector": {
   "cols": {
    "lenName": 16,
    "lenType": 16,
    "lenVar": 40
   },
   "kernels_config": {
    "python": {
     "delete_cmd_postfix": "",
     "delete_cmd_prefix": "del ",
     "library": "var_list.py",
     "varRefreshCmd": "print(var_dic_list())"
    },
    "r": {
     "delete_cmd_postfix": ") ",
     "delete_cmd_prefix": "rm(",
     "library": "var_list.r",
     "varRefreshCmd": "cat(var_dic_list()) "
    }
   },
   "oldHeight": 536.797,
   "position": {
    "height": "40px",
    "left": "1385px",
    "right": "20px",
    "top": "8px",
    "width": "517px"
   },
   "types_to_exclude": [
    "module",
    "function",
    "builtin_function_or_method",
    "instance",
    "_Feature"
   ],
   "varInspector_section_display": "none",
   "window_display": true
  }
 },
 "nbformat": 4,
 "nbformat_minor": 4
}
