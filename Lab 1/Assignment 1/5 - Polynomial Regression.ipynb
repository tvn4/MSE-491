{
 "cells": [
  {
   "cell_type": "markdown",
   "metadata": {},
   "source": [
    "# Simon Fraser University - Mechatronic Systems Engineering\n",
    "## Spring 2022 - MSE491 - Application of Machine Learning in Mechatronic Systems\n",
    "## Instructor: Dr. Mohammad Narimani\n",
    "\n",
    "## Assignment 1 - Regression\n",
    "## Q5 Polynomial Regression\n",
    "\n",
    "#### Original author: Tony Vu Nguyen (301286979) - tvn4@sfu.ca\n",
    "#### Created: Feb 10, 2022\n",
    "#### Modified: Feb 10, 2022"
   ]
  },
  {
   "cell_type": "code",
   "execution_count": 3,
   "metadata": {},
   "outputs": [],
   "source": [
    "# Load General Libraries\n",
    "\n",
    "import numpy as np\n",
    "# NumPy is a Python library used for working with arrays.\n",
    "# It also has functions for working in domain of linear algebra, fourier transform, and matrices.\n",
    "\n",
    "import pandas as pd\n",
    "# For data manipulation and analysis.\n",
    "# data structures and operations for manipulating numerical tables and time series.\n",
    "\n",
    "import pickle\n",
    "# for serializing and de-serializing a Python object structure.\n",
    "# Any object in Python can be pickled so that it can be saved on disk\n",
    "# Pickling is a way to convert a python object (list, dict, etc.) into a character stream\n",
    "# which contains all the information necessary to reconstruct the object in another python script.\n",
    "\n",
    "import matplotlib.pyplot as plt\n",
    "# data visualization and graphical plotting library \n",
    "\n",
    "import seaborn as sns\n",
    "# a library for making statistical graphics in Python"
   ]
  },
  {
   "cell_type": "code",
   "execution_count": 4,
   "metadata": {},
   "outputs": [],
   "source": [
    "# load data from Q1\n",
    "%store -r df F T F_train F_test T_train T_test"
   ]
  },
  {
   "cell_type": "markdown",
   "metadata": {},
   "source": [
    "### 1 - Polynomial Regression"
   ]
  },
  {
   "cell_type": "code",
   "execution_count": null,
   "metadata": {
    "scrolled": true
   },
   "outputs": [],
   "source": [
    "#%% Polynomial Regression with 1 Feature for visualization\n",
    "import random\n",
    "from sklearn import preprocessing\n",
    "from sklearn.pipeline import make_pipeline\n",
    "from sklearn.preprocessing import PolynomialFeatures\n",
    "from sklearn.linear_model import LinearRegression\n",
    "\n",
    "# All features, one target (TEY)\n",
    "x_train = F_train.values.reshape(-1, 1) #All features\n",
    "y_train = T_train['TEY']\n",
    "\n",
    "x_test = F_test.values.reshape(-1, 1)\n",
    "y_test = T_test['TEY']\n",
    "\n",
    "# Standardizing features by removing the mean and scaling to unit variance\n",
    "scaler = preprocessing.StandardScaler()\n",
    "degree = [2 , 5, 11] #degree of polynomial\n",
    "\n",
    "## Model Creation\n",
    "model_poly = []\n",
    "\n",
    "for n in range(len(degree)):\n",
    "    model_poly.append(make_pipeline(PolynomialFeatures(degree),scaler,LinearRegression()))\n",
    "    model_poly[n].fit(x_train,y_train)"
   ]
  },
  {
   "cell_type": "code",
   "execution_count": null,
   "metadata": {},
   "outputs": [],
   "source": [
    "# Model evalution\n",
    "yp, yp_zip = []\n",
    "\n",
    "# Visualizing the Polymonial Regression results\n",
    "\n",
    "for n in range(len(degree))\n",
    "    yp.append(model_poly[n].predict(Xpv_train))\n",
    "    yp_zip.append(zip(x_train, yp[n]))\n",
    "    yp_sort.apppend(sorted(yp_zip[n]))\n",
    "    tuples = zip(*yp_sort[n])\n",
    "    Xpv_train, poly_pred = [list(tuple) for tuple in tuples]\n",
    "\n",
    "plt.figure()\n",
    "viz_polymonial()"
   ]
  },
  {
   "cell_type": "code",
   "execution_count": null,
   "metadata": {},
   "outputs": [],
   "source": [
    "# Model visualization\n",
    "def viz_poly(x_train, y_train, model, title, xlabel, ylabel):\n",
    "    plt.scatter(x_train, y_train, color='red')\n",
    "    plt.plot(x_train, model.predict(x_train), color='blue')\n",
    "    plt.title(title)\n",
    "    plt.xlabel(xlabel)\n",
    "    plt.ylabel(ylabel)\n",
    "    plt.show()\n",
    "    return\n",
    "\n",
    "def viz_polymonial():\n",
    "    plt.scatter(Xpv_train, ypv_train, color='red')\n",
    "    plt.plot(Xpv_train, poly_pred, color='blue')\n",
    "    plt.title('Polymonial Regression with 1 Feature for visualization')\n",
    "    plt.xlabel('Linear feet of street connected to property')\n",
    "    plt.ylabel('The property sale price in dollars')\n",
    "    plt.show()\n",
    "    return"
   ]
  },
  {
   "cell_type": "code",
   "execution_count": null,
   "metadata": {},
   "outputs": [],
   "source": [
    "# 2nd Degree\n",
    "degree = 2\n",
    "\n",
    "# 1 feature (Linear feet of street connected to property)\n",
    "# with 20 random samples for visualization\n",
    "# Rp = random.sample(range(0,X_train.shape[0]),20)\n",
    "ypv_train = y_train[Rp]\n",
    "Xpv_train = X_train[Rp,2] # Column 2: LotFrontage\n",
    "Xpv_train = Xpv_train.reshape(-1, 1)\n",
    "\n",
    "\n",
    "\n",
    "\n",
    "# Visualizing the Polymonial Regression results\n",
    "poly_pred = polyreg_scaled.predict(Xpv_train)\n",
    "zipped_pred = zip(Xpv_train, poly_pred)\n",
    "sorted_pred = sorted(zipped_pred)\n",
    "tuples = zip(*sorted_pred)\n",
    "Xpv_train, poly_pred = [list(tuple) for tuple in tuples]\n",
    "\n",
    "plt.figure()\n",
    "viz_polymonial()"
   ]
  },
  {
   "cell_type": "code",
   "execution_count": null,
   "metadata": {},
   "outputs": [],
   "source": [
    "# 5th Degree\n",
    "degree = 5\n",
    "\n",
    "# 1 feature (Linear feet of street connected to property)\n",
    "# with 20 random samples for visualization\n",
    "Rp = random.sample(range(0,X_train.shape[0]),20)\n",
    "ypv_train = y_train[Rp]\n",
    "Xpv_train = X_train[Rp,2]\n",
    "Xpv_train = Xpv_train.reshape(-1, 1)\n",
    "\n",
    "# Standardizing features by removing the mean and scaling to unit variance\n",
    "scaler = preprocessing.StandardScaler()\n",
    "### Polynomial Regression - using one feature with 20 samples\n",
    "polyreg_scaled = make_pipeline(PolynomialFeatures(degree),scaler,LinearRegression())\n",
    "polyreg_scaled.fit(Xpv_train,ypv_train)\n",
    "\n",
    "# Visualizing the Polymonial Regression results\n",
    "poly_pred = polyreg_scaled.predict(Xpv_train)\n",
    "zipped_pred = zip(Xpv_train, poly_pred)\n",
    "sorted_pred = sorted(zipped_pred)\n",
    "tuples = zip(*sorted_pred)\n",
    "Xpv_train, poly_pred = [list(tuple) for tuple in tuples]\n",
    "\n",
    "plt.figure()\n",
    "viz_polymonial()"
   ]
  },
  {
   "cell_type": "code",
   "execution_count": null,
   "metadata": {},
   "outputs": [],
   "source": [
    "# 11th Degree\n",
    "degree = 11\n",
    "\n",
    "# 1 feature (Linear feet of street connected to property)\n",
    "# with 20 random samples for visualization\n",
    "Rp = random.sample(range(0,X_train.shape[0]),20)\n",
    "ypv_train = y_train[Rp]\n",
    "Xpv_train = X_train[Rp,2]\n",
    "Xpv_train = Xpv_train.reshape(-1, 1)\n",
    "\n",
    "# Standardizing features by removing the mean and scaling to unit variance\n",
    "scaler = preprocessing.StandardScaler()\n",
    "### Polynomial Regression - using one feature with 20 samples\n",
    "polyreg_scaled = make_pipeline(PolynomialFeatures(degree),scaler,LinearRegression())\n",
    "polyreg_scaled.fit(Xpv_train,ypv_train)\n",
    "\n",
    "# Visualizing the Polymonial Regression results\n",
    "poly_pred = polyreg_scaled.predict(Xpv_train)\n",
    "zipped_pred = zip(Xpv_train, poly_pred)\n",
    "sorted_pred = sorted(zipped_pred)\n",
    "tuples = zip(*sorted_pred)\n",
    "Xpv_train, poly_pred = [list(tuple) for tuple in tuples]\n",
    "\n",
    "plt.figure()\n",
    "viz_polymonial()"
   ]
  },
  {
   "cell_type": "markdown",
   "metadata": {},
   "source": [
    "### 2 - Does employing more features always improve performance?\n",
    "No..."
   ]
  },
  {
   "cell_type": "code",
   "execution_count": null,
   "metadata": {},
   "outputs": [],
   "source": []
  }
 ],
 "metadata": {
  "kernelspec": {
   "display_name": "Python 3 (ipykernel)",
   "language": "python",
   "name": "python3"
  },
  "language_info": {
   "codemirror_mode": {
    "name": "ipython",
    "version": 3
   },
   "file_extension": ".py",
   "mimetype": "text/x-python",
   "name": "python",
   "nbconvert_exporter": "python",
   "pygments_lexer": "ipython3",
   "version": "3.9.7"
  },
  "varInspector": {
   "cols": {
    "lenName": 16,
    "lenType": 16,
    "lenVar": 40
   },
   "kernels_config": {
    "python": {
     "delete_cmd_postfix": "",
     "delete_cmd_prefix": "del ",
     "library": "var_list.py",
     "varRefreshCmd": "print(var_dic_list())"
    },
    "r": {
     "delete_cmd_postfix": ") ",
     "delete_cmd_prefix": "rm(",
     "library": "var_list.r",
     "varRefreshCmd": "cat(var_dic_list()) "
    }
   },
   "oldHeight": 536.838,
   "position": {
    "height": "40px",
    "left": "963px",
    "right": "20px",
    "top": "83px",
    "width": "517px"
   },
   "types_to_exclude": [
    "module",
    "function",
    "builtin_function_or_method",
    "instance",
    "_Feature"
   ],
   "varInspector_section_display": "none",
   "window_display": true
  }
 },
 "nbformat": 4,
 "nbformat_minor": 4
}
