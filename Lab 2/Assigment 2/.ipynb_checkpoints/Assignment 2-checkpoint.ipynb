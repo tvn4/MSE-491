{
 "cells": [
  {
   "cell_type": "markdown",
   "id": "a43108d7",
   "metadata": {},
   "source": [
    "# Simon Fraser University - Mechatronic Systems Engineering\n",
    "## Spring 2022 - MSE491 - Application of Machine Learning in Mechatronic Systems\n",
    "## Instructor: Dr. Mohammad Narimani\n",
    "## Group 17\n",
    "\n",
    "## Assignment 2 - Classification\n",
    "\n",
    "#### Original author: Tony Vu Nguyen (301286979) - tvn4@sfu.ca\n",
    "#### Created: Mar 3, 2022\n",
    "#### Modified: Mar 3, 2022"
   ]
  },
  {
   "cell_type": "code",
   "execution_count": 3,
   "id": "2bcd5d72",
   "metadata": {},
   "outputs": [],
   "source": [
    "# Load General Libraries\n",
    "\n",
    "import numpy as np\n",
    "# NumPy is a Python library used for working with arrays.\n",
    "# It also has functions for working in domain of linear algebra, fourier transform, and matrices.\n",
    "\n",
    "import pandas as pd\n",
    "# For data manipulation and analysis.\n",
    "# data structures and operations for manipulating numerical tables and time series.\n",
    "\n",
    "import pickle\n",
    "# for serializing and de-serializing a Python object structure.\n",
    "# Any object in Python can be pickled so that it can be saved on disk\n",
    "# Pickling is a way to convert a python object (list, dict, etc.) into a character stream\n",
    "# which contains all the information necessary to reconstruct the object in another python script.\n",
    "\n",
    "import matplotlib.pyplot as plt\n",
    "# data visualization and graphical plotting library \n",
    "\n",
    "import seaborn as sns\n",
    "# a library for making statistical graphics in Python\n"
   ]
  },
  {
   "cell_type": "markdown",
   "id": "58b81ddf",
   "metadata": {},
   "source": [
    "## 1. Getting Started"
   ]
  },
  {
   "cell_type": "code",
   "execution_count": 4,
   "id": "5d3fab56",
   "metadata": {
    "scrolled": true
   },
   "outputs": [],
   "source": [
    "# Load dataset\n",
    "df = pd.read_csv('datasets\\heart_failure_dataset.csv', header=0)"
   ]
  },
  {
   "cell_type": "code",
   "execution_count": 24,
   "id": "20052ebc",
   "metadata": {
    "scrolled": true
   },
   "outputs": [
    {
     "name": "stdout",
     "output_type": "stream",
     "text": [
      "Percent of deceased patients that had anaemia and were smokers: 12.5%\n"
     ]
    }
   ],
   "source": [
    "## 1.1 Deceased patients (target) that had anaemia and were smokers (features)\n",
    "\n",
    "df_d = df[df['death_event']==1] # Number of deceased patients\n",
    "df_da = df_d[df_d['anaemia']==1] # Number of deceased patients with anemia\n",
    "df_das = df_da[df_da['smoking']==1] # Number of deceased patients with anemia and were smokers\n",
    "\n",
    "print('Percent of deceased patients that had anaemia and were smokers: %.1f%%' %(len(df_das)/len(df_d)*100))"
   ]
  },
  {
   "cell_type": "code",
   "execution_count": 26,
   "id": "e1ff3795",
   "metadata": {},
   "outputs": [
    {
     "name": "stdout",
     "output_type": "stream",
     "text": [
      "[<bound method NDFrame._add_numeric_operations.<locals>.mean of 14       80\n",
      "20       52\n",
      "23       63\n",
      "33      159\n",
      "38     2656\n",
      "       ... \n",
      "294      61\n",
      "295    1820\n",
      "296    2060\n",
      "297    2413\n",
      "298     196\n",
      "Name: creatinine_phosphokinase, Length: 203, dtype: int64>, <bound method NDFrame._add_numeric_operations.<locals>.mean of 0       582\n",
      "1      7861\n",
      "2       146\n",
      "3       111\n",
      "4       160\n",
      "       ... \n",
      "220     582\n",
      "230     166\n",
      "246    2017\n",
      "262     258\n",
      "266    1199\n",
      "Name: creatinine_phosphokinase, Length: 96, dtype: int64>]\n"
     ]
    },
    {
     "data": {
      "text/plain": [
       "<AxesSubplot:title={'center':'creatinine_phosphokinase'}, xlabel='[death_event]'>"
      ]
     },
     "execution_count": 26,
     "metadata": {},
     "output_type": "execute_result"
    },
    {
     "data": {
      "text/plain": [
       "<Figure size 432x288 with 0 Axes>"
      ]
     },
     "metadata": {},
     "output_type": "display_data"
    },
    {
     "data": {
      "image/png": "[encoded data removed]",
      "text/plain": [
       "<Figure size 432x288 with 1 Axes>"
      ]
     },
     "metadata": {},
     "output_type": "display_data"
    }
   ],
   "source": [
    "## 1.2a: Mean\n",
    "df_a = df[df['death_event']==0] # Number of alive patients\n",
    "df_CPK = df[['creatinine_phosphokinase', 'death_event']] \n",
    "\n",
    "CPK_mean = [df_a['creatinine_phosphokinase'].mean, df_d['creatinine_phosphokinase'].mean]\n",
    "# print(CPK_mean)\n",
    "\n",
    "plt.figure()\n",
    "df_CPK.boxplot(by='death_event', showfliers=False)\n",
    "# # Boxplot\n",
    "# sns.set_theme(style='whitegrid')\n",
    "# ax = sns.boxplot(x='death_event', y='creatinine_phosphokinase', data=df_a)"
   ]
  },
  {
   "cell_type": "code",
   "execution_count": 25,
   "id": "696af14d",
   "metadata": {},
   "outputs": [
    {
     "name": "stdout",
     "output_type": "stream",
     "text": [
      "0.27961124573614\n"
     ]
    }
   ],
   "source": [
    "## 1.2b: T-test\n",
    "from scipy.stats import ttest_ind\n",
    "T, P = ttest_ind(df_a['creatinine_phosphokinase'],df_d['creatinine_phosphokinase'])\n",
    "print(P)\n"
   ]
  },
  {
   "cell_type": "markdown",
   "id": "1a164cb5",
   "metadata": {},
   "source": [
    "## 2. Logistic Regression"
   ]
  },
  {
   "cell_type": "code",
   "execution_count": null,
   "id": "1db3e727",
   "metadata": {},
   "outputs": [],
   "source": []
  }
 ],
 "metadata": {
  "kernelspec": {
   "display_name": "Python 3 (ipykernel)",
   "language": "python",
   "name": "python3"
  },
  "language_info": {
   "codemirror_mode": {
    "name": "ipython",
    "version": 3
   },
   "file_extension": ".py",
   "mimetype": "text/x-python",
   "name": "python",
   "nbconvert_exporter": "python",
   "pygments_lexer": "ipython3",
   "version": "3.9.7"
  },
  "varInspector": {
   "cols": {
    "lenName": 16,
    "lenType": 16,
    "lenVar": 40
   },
   "kernels_config": {
    "python": {
     "delete_cmd_postfix": "",
     "delete_cmd_prefix": "del ",
     "library": "var_list.py",
     "varRefreshCmd": "print(var_dic_list())"
    },
    "r": {
     "delete_cmd_postfix": ") ",
     "delete_cmd_prefix": "rm(",
     "library": "var_list.r",
     "varRefreshCmd": "cat(var_dic_list()) "
    }
   },
   "oldHeight": 200.85,
   "position": {
    "height": "418.844px",
    "left": "1056.2px",
    "right": "20px",
    "top": "107px",
    "width": "522px"
   },
   "types_to_exclude": [
    "module",
    "function",
    "builtin_function_or_method",
    "instance",
    "_Feature"
   ],
   "varInspector_section_display": "block",
   "window_display": false
  }
 },
 "nbformat": 4,
 "nbformat_minor": 5
}
