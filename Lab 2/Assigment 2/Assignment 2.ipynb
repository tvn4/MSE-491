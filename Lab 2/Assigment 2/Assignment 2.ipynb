{
 "cells": [
  {
   "cell_type": "markdown",
   "id": "a43108d7",
   "metadata": {},
   "source": [
    "# Simon Fraser University - Mechatronic Systems Engineering\n",
    "## Spring 2022 - MSE491 - Application of Machine Learning in Mechatronic Systems\n",
    "## Instructor: Dr. Mohammad Narimani\n",
    "## Group 17\n",
    "\n",
    "## Assignment 2 - Classification\n",
    "\n",
    "#### Original author: Tony Vu Nguyen (301286979) - tvn4@sfu.ca\n",
    "#### Created: Mar 3, 2022\n",
    "#### Modified: Mar 3, 2022"
   ]
  },
  {
   "cell_type": "code",
   "execution_count": 1,
   "id": "2bcd5d72",
   "metadata": {},
   "outputs": [],
   "source": [
    "# Load General Libraries\n",
    "\n",
    "import numpy as np\n",
    "# NumPy is a Python library used for working with arrays.\n",
    "# It also has functions for working in domain of linear algebra, fourier transform, and matrices.\n",
    "\n",
    "import pandas as pd\n",
    "# For data manipulation and analysis.\n",
    "# data structures and operations for manipulating numerical tables and time series.\n",
    "\n",
    "import pickle\n",
    "# for serializing and de-serializing a Python object structure.\n",
    "# Any object in Python can be pickled so that it can be saved on disk\n",
    "# Pickling is a way to convert a python object (list, dict, etc.) into a character stream\n",
    "# which contains all the information necessary to reconstruct the object in another python script.\n",
    "\n",
    "import matplotlib.pyplot as plt\n",
    "# data visualization and graphical plotting library \n",
    "\n",
    "import seaborn as sns\n",
    "# a library for making statistical graphics in Python\n"
   ]
  },
  {
   "cell_type": "markdown",
   "id": "58b81ddf",
   "metadata": {},
   "source": [
    "## 1. Getting Started"
   ]
  },
  {
   "cell_type": "code",
   "execution_count": 9,
   "id": "5d3fab56",
   "metadata": {
    "scrolled": true
   },
   "outputs": [],
   "source": [
    "# Load dataset\n",
    "df = pd.read_csv('datasets\\heart_failure_dataset.csv', header=0)"
   ]
  },
  {
   "cell_type": "code",
   "execution_count": 10,
   "id": "20052ebc",
   "metadata": {
    "scrolled": false
   },
   "outputs": [
    {
     "name": "stdout",
     "output_type": "stream",
     "text": [
      "Percent of deceased patients that had anaemia and were smokers: 12.5%\n"
     ]
    }
   ],
   "source": [
    "## 1.1 Deceased patients (target) that had anaemia and were smokers (features)\n",
    "\n",
    "df_d = df[df['death_event']==1] # Number of deceased patients\n",
    "df_da = df_d[df_d['anaemia']==1] # Number of deceased patients with anemia\n",
    "df_das = df_da[df_da['smoking']==1] # Number of deceased patients with anemia and were smokers\n",
    "\n",
    "print('Percent of deceased patients that had anaemia and were smokers: %.1f%%' %(len(df_das)/len(df_d)*100))"
   ]
  },
  {
   "cell_type": "code",
   "execution_count": 46,
   "id": "e1ff3795",
   "metadata": {
    "scrolled": true
   },
   "outputs": [
    {
     "name": "stdout",
     "output_type": "stream",
     "text": [
      "Mean CPK Levels of Alive Patients: 540\n",
      "Mean CPK Levels of Dead Patients: 670\n"
     ]
    },
    {
     "name": "stderr",
     "output_type": "stream",
     "text": [
      "C:\\Users\\Tony\\anaconda3\\lib\\site-packages\\pandas\\core\\generic.py:6619: SettingWithCopyWarning: \n",
      "A value is trying to be set on a copy of a slice from a DataFrame\n",
      "\n",
      "See the caveats in the documentation: https://pandas.pydata.org/pandas-docs/stable/user_guide/indexing.html#returning-a-view-versus-a-copy\n",
      "  return self._update_inplace(result)\n"
     ]
    },
    {
     "data": {
      "text/plain": [
       "Text(0, 0.5, 'CPK Levels [mcg/L]')"
      ]
     },
     "execution_count": 46,
     "metadata": {},
     "output_type": "execute_result"
    },
    {
     "data": {
      "text/plain": [
       "<Figure size 432x288 with 0 Axes>"
      ]
     },
     "metadata": {},
     "output_type": "display_data"
    },
    {
     "data": {
      "image/png": "[encoded data removed]",
      "text/plain": [
       "<Figure size 432x288 with 1 Axes>"
      ]
     },
     "metadata": {
      "needs_background": "light"
     },
     "output_type": "display_data"
    }
   ],
   "source": [
    "## 1.2a: Mean\n",
    "df_a = df[df['death_event']==0]\n",
    "df_CPK = df[['creatinine_phosphokinase', 'death_event']]\n",
    "df_CPK['death_event'].replace({0:'Alive',1:'Dead'}, inplace=True)\n",
    "\n",
    "CPK_mean = [df_a['creatinine_phosphokinase'].mean(), df_d['creatinine_phosphokinase'].mean()]\n",
    "print('Mean CPK Levels of Alive Patients: %i'%CPK_mean[0])\n",
    "print('Mean CPK Levels of Dead Patients: %i'%CPK_mean[1])\n",
    "\n",
    "# Boxplot\n",
    "plt.figure()\n",
    "df_CPK.boxplot(by='death_event', showfliers=False)\n",
    "plt.title('Creatinine Phosphokinase (CPK) Levels of Patients')\n",
    "plt.xlabel('Patient Status')\n",
    "plt.ylabel('CPK Levels [mcg/L]')"
   ]
  },
  {
   "cell_type": "code",
   "execution_count": 18,
   "id": "696af14d",
   "metadata": {},
   "outputs": [
    {
     "name": "stdout",
     "output_type": "stream",
     "text": [
      "p-value = 0.27961124573614\n",
      "not significant\n"
     ]
    }
   ],
   "source": [
    "## 1.2b: T-test\n",
    "from scipy.stats import ttest_ind\n",
    "T, P = ttest_ind(df_a['creatinine_phosphokinase'],df_d['creatinine_phosphokinase'])\n",
    "\n",
    "print(\"p-value =\", P)\n",
    "# if the p-value is less than 0.05 we have significant different between feature values\n",
    "if P < 0.05:\n",
    "    print(\"significant\")\n",
    "else:\n",
    "    print(\"not significant\")\n"
   ]
  },
  {
   "cell_type": "markdown",
   "id": "1a164cb5",
   "metadata": {},
   "source": [
    "## 2. Logistic Regression"
   ]
  },
  {
   "cell_type": "code",
   "execution_count": 61,
   "id": "1db3e727",
   "metadata": {},
   "outputs": [],
   "source": [
    "## Splitting data into 80/20 training/test split\n",
    "\n",
    "# Split features and targets: F=Features, T=Targets\n",
    "F = df.iloc[:, :-1]\n",
    "T = df['death_event']\n",
    "\n",
    "# Splitting dataset into the Training and Test sets\n",
    "from sklearn.model_selection import train_test_split\n",
    "F_train, F_test, T_train, T_test = train_test_split(F, T, test_size=0.2)"
   ]
  },
  {
   "cell_type": "code",
   "execution_count": 67,
   "id": "dbd23ebd",
   "metadata": {},
   "outputs": [],
   "source": [
    "## 2.1 Model Training\n",
    "\n",
    "# Import the class\n",
    "from sklearn.linear_model import LogisticRegression\n",
    "\n",
    "# Instantiating the model (using the default parameters)\n",
    "logR = LogisticRegression()\n",
    "\n",
    "# Fitting the model with data\n",
    "logR.fit(F_train,T_train)\n",
    "\n",
    "# Save the Trained Model\n",
    "pickle.dump(logR, open('Model_LogisticRegression.pkl', 'wb'))\n",
    "\n",
    "# Predicting the labels on test set\n",
    "T_pred = logR.predict(F_test)"
   ]
  },
  {
   "cell_type": "code",
   "execution_count": 68,
   "id": "a8fbca92",
   "metadata": {},
   "outputs": [
    {
     "name": "stdout",
     "output_type": "stream",
     "text": [
      "Confusion Matrix\n",
      " [[40  3]\n",
      " [13  4]]\n"
     ]
    }
   ],
   "source": [
    "## 2.1 Model Evaluation\n",
    "\n",
    "# import the metrics class\n",
    "from sklearn.metrics import accuracy_score, precision_score, recall_score, f1_score\n",
    "from sklearn.metrics import confusion_matrix, plot_confusion_matrix\n",
    "\n",
    "cm = confusion_matrix(T_test, T_pred)\n",
    "print('Confusion Matrix\\n', cm)"
   ]
  },
  {
   "cell_type": "code",
   "execution_count": 71,
   "id": "e5c6e532",
   "metadata": {},
   "outputs": [
    {
     "name": "stdout",
     "output_type": "stream",
     "text": [
      "Confusion Matrix\n",
      " [[40  3]\n",
      " [13  4]]\n",
      "Accuracy: 0.7333333333333333\n",
      "Precision: 0.5714285714285714\n",
      "Recall: 0.23529411764705882\n",
      "F1 Score: 0.3333333333333333\n"
     ]
    },
    {
     "data": {
      "image/png": "[encoded data removed]",
      "text/plain": [
       "<Figure size 432x288 with 2 Axes>"
      ]
     },
     "metadata": {
      "needs_background": "light"
     },
     "output_type": "display_data"
    }
   ],
   "source": [
    "## 2.1 Model Evaluation\n",
    "\n",
    "# import the metrics class\n",
    "from sklearn.metrics import accuracy_score, precision_score, recall_score, f1_score\n",
    "from sklearn.metrics import confusion_matrix, plot_confusion_matrix\n",
    "\n",
    "cm = confusion_matrix(T_test, T_pred)\n",
    "print('Confusion Matrix\\n', cm)\n",
    "\n",
    "plt_cm = plot_confusion_matrix(logR, F_test, T_test,\n",
    "                                       display_labels=['Alive','Dead'],\n",
    "                                       cmap=plt.cm.Blues,\n",
    "                                       normalize='true')\n",
    "plt_cm.ax_.set_title('Confusion Matrix - Binary Classification')\n",
    "\n",
    "# Print Evaluation Metrics\n",
    "print(\"Accuracy:\",accuracy_score(T_test, T_pred))\n",
    "print(\"Precision:\",precision_score(T_test, T_pred))\n",
    "print(\"Recall:\",recall_score(T_test, T_pred))\n",
    "print(\"F1 Score:\",f1_score(T_test, T_pred))"
   ]
  },
  {
   "cell_type": "code",
   "execution_count": null,
   "id": "ac5b6db6",
   "metadata": {},
   "outputs": [],
   "source": []
  }
 ],
 "metadata": {
  "kernelspec": {
   "display_name": "Python 3 (ipykernel)",
   "language": "python",
   "name": "python3"
  },
  "language_info": {
   "codemirror_mode": {
    "name": "ipython",
    "version": 3
   },
   "file_extension": ".py",
   "mimetype": "text/x-python",
   "name": "python",
   "nbconvert_exporter": "python",
   "pygments_lexer": "ipython3",
   "version": "3.9.7"
  },
  "varInspector": {
   "cols": {
    "lenName": 16,
    "lenType": 16,
    "lenVar": 40
   },
   "kernels_config": {
    "python": {
     "delete_cmd_postfix": "",
     "delete_cmd_prefix": "del ",
     "library": "var_list.py",
     "varRefreshCmd": "print(var_dic_list())"
    },
    "r": {
     "delete_cmd_postfix": ") ",
     "delete_cmd_prefix": "rm(",
     "library": "var_list.r",
     "varRefreshCmd": "cat(var_dic_list()) "
    }
   },
   "oldHeight": 396.825,
   "position": {
    "height": "40px",
    "left": "854.2px",
    "right": "20px",
    "top": "86px",
    "width": "522px"
   },
   "types_to_exclude": [
    "module",
    "function",
    "builtin_function_or_method",
    "instance",
    "_Feature"
   ],
   "varInspector_section_display": "none",
   "window_display": true
  }
 },
 "nbformat": 4,
 "nbformat_minor": 5
}
