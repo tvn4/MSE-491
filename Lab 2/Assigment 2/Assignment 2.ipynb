{
 "cells": [
  {
   "cell_type": "markdown",
   "id": "a43108d7",
   "metadata": {},
   "source": [
    "# Simon Fraser University - Mechatronic Systems Engineering\n",
    "## Spring 2022 - MSE491 - Application of Machine Learning in Mechatronic Systems\n",
    "## Instructor: Dr. Mohammad Narimani\n",
    "## Group 17\n",
    "\n",
    "## Assignment 2 - Classification\n",
    "\n",
    "#### Original author: Tony Vu Nguyen (301286979) - tvn4@sfu.ca\n",
    "#### Created: Mar 3, 2022\n",
    "#### Modified: Mar 3, 2022"
   ]
  },
  {
   "cell_type": "code",
   "execution_count": 30,
   "id": "2bcd5d72",
   "metadata": {},
   "outputs": [],
   "source": [
    "# Load General Libraries\n",
    "\n",
    "import numpy as np\n",
    "# NumPy is a Python library used for working with arrays.\n",
    "# It also has functions for working in domain of linear algebra, fourier transform, and matrices.\n",
    "\n",
    "import pandas as pd\n",
    "# For data manipulation and analysis.\n",
    "# data structures and operations for manipulating numerical tables and time series.\n",
    "\n",
    "import pickle\n",
    "# for serializing and de-serializing a Python object structure.\n",
    "# Any object in Python can be pickled so that it can be saved on disk\n",
    "# Pickling is a way to convert a python object (list, dict, etc.) into a character stream\n",
    "# which contains all the information necessary to reconstruct the object in another python script.\n",
    "\n",
    "import matplotlib.pyplot as plt\n",
    "# data visualization and graphical plotting library \n",
    "\n",
    "import seaborn as sns\n",
    "# a library for making statistical graphics in Python\n"
   ]
  },
  {
   "cell_type": "markdown",
   "id": "58b81ddf",
   "metadata": {},
   "source": [
    "## 1. Getting Started"
   ]
  },
  {
   "cell_type": "code",
   "execution_count": 31,
   "id": "5d3fab56",
   "metadata": {
    "scrolled": true
   },
   "outputs": [],
   "source": [
    "# Load dataset\n",
    "df = pd.read_csv('datasets\\heart_failure_dataset.csv', header=0)"
   ]
  },
  {
   "cell_type": "code",
   "execution_count": 32,
   "id": "20052ebc",
   "metadata": {
    "scrolled": false
   },
   "outputs": [
    {
     "name": "stdout",
     "output_type": "stream",
     "text": [
      "Percent of deceased patients that had anaemia and were smokers: 12.5%\n"
     ]
    }
   ],
   "source": [
    "## 1.1 Deceased patients (target) that had anaemia and were smokers (features)\n",
    "\n",
    "df_d = df[df['death_event']==1] # Number of deceased patients\n",
    "df_da = df_d[df_d['anaemia']==1] # Number of deceased patients with anemia\n",
    "df_das = df_da[df_da['smoking']==1] # Number of deceased patients with anemia and were smokers\n",
    "\n",
    "print('Percent of deceased patients that had anaemia and were smokers: %.1f%%' %(len(df_das)/len(df_d)*100))"
   ]
  },
  {
   "cell_type": "code",
   "execution_count": 33,
   "id": "e1ff3795",
   "metadata": {
    "scrolled": true
   },
   "outputs": [
    {
     "name": "stdout",
     "output_type": "stream",
     "text": [
      "Mean CPK Levels of Alive Patients: 540\n",
      "Mean CPK Levels of Dead Patients: 670\n"
     ]
    },
    {
     "name": "stderr",
     "output_type": "stream",
     "text": [
      "C:\\ProgramData\\Anaconda3\\lib\\site-packages\\pandas\\core\\generic.py:6619: SettingWithCopyWarning: \n",
      "A value is trying to be set on a copy of a slice from a DataFrame\n",
      "\n",
      "See the caveats in the documentation: https://pandas.pydata.org/pandas-docs/stable/user_guide/indexing.html#returning-a-view-versus-a-copy\n",
      "  return self._update_inplace(result)\n"
     ]
    },
    {
     "data": {
      "text/plain": [
       "Text(0, 0.5, 'CPK Levels [mcg/L]')"
      ]
     },
     "execution_count": 33,
     "metadata": {},
     "output_type": "execute_result"
    },
    {
     "data": {
      "text/plain": [
       "<Figure size 432x288 with 0 Axes>"
      ]
     },
     "metadata": {},
     "output_type": "display_data"
    },
    {
     "data": {
      "image/png": "[encoded data removed]",
      "text/plain": [
       "<Figure size 432x288 with 1 Axes>"
      ]
     },
     "metadata": {
      "needs_background": "light"
     },
     "output_type": "display_data"
    }
   ],
   "source": [
    "## 1.2a: Mean\n",
    "df_a = df[df['death_event']==0]\n",
    "df_CPK = df[['creatinine_phosphokinase', 'death_event']]\n",
    "df_CPK['death_event'].replace({0:'Alive',1:'Dead'}, inplace=True)\n",
    "\n",
    "CPK_mean = [df_a['creatinine_phosphokinase'].mean(), df_d['creatinine_phosphokinase'].mean()]\n",
    "print('Mean CPK Levels of Alive Patients: %i'%CPK_mean[0])\n",
    "print('Mean CPK Levels of Dead Patients: %i'%CPK_mean[1])\n",
    "\n",
    "# Boxplot\n",
    "plt.figure()\n",
    "df_CPK.boxplot(by='death_event', showfliers=False)\n",
    "plt.title('Creatinine Phosphokinase (CPK) Levels of Patients')\n",
    "plt.xlabel('Patient Status')\n",
    "plt.ylabel('CPK Levels [mcg/L]')"
   ]
  },
  {
   "cell_type": "code",
   "execution_count": 34,
   "id": "696af14d",
   "metadata": {},
   "outputs": [
    {
     "name": "stdout",
     "output_type": "stream",
     "text": [
      "p-value = 0.27961124573614\n",
      "not significant\n"
     ]
    }
   ],
   "source": [
    "## 1.2b: T-test\n",
    "from scipy.stats import ttest_ind\n",
    "T, P = ttest_ind(df_a['creatinine_phosphokinase'],df_d['creatinine_phosphokinase'])\n",
    "\n",
    "print(\"p-value =\", P)\n",
    "# if the p-value is less than 0.05 we have significant different between feature values\n",
    "if P < 0.05:\n",
    "    print(\"significant\")\n",
    "else:\n",
    "    print(\"not significant\")\n"
   ]
  },
  {
   "cell_type": "markdown",
   "id": "1a164cb5",
   "metadata": {},
   "source": [
    "## 2. Logistic Regression"
   ]
  },
  {
   "cell_type": "code",
   "execution_count": 44,
   "id": "1db3e727",
   "metadata": {},
   "outputs": [],
   "source": [
    "## Splitting data into 80/20 training/test split\n",
    "\n",
    "# Split features and targets: F=Features, T=Targets\n",
    "F = df.iloc[:, :-1]\n",
    "T = df['death_event']\n",
    "\n",
    "# Splitting dataset into training and test sets\n",
    "from sklearn.model_selection import train_test_split\n",
    "F_train, F_test, T_train, T_test = train_test_split(F, T, test_size=0.2)"
   ]
  },
  {
   "cell_type": "code",
   "execution_count": 45,
   "id": "dbd23ebd",
   "metadata": {},
   "outputs": [],
   "source": [
    "## 2.1 Model Training\n",
    "\n",
    "# Import the class\n",
    "from sklearn.linear_model import LogisticRegression\n",
    "\n",
    "# Instantiating the model (using the default parameters)\n",
    "lr = LogisticRegression()\n",
    "\n",
    "# Fitting the model with data\n",
    "lr.fit(F_train,T_train)\n",
    "\n",
    "# Save the Trained Model\n",
    "pickle.dump(lr, open('Model_LogRegress.pkl', 'wb'))\n",
    "\n",
    "# Predicting the labels on data set\n",
    "Tp_train_lr = lr.predict(F_train)\n",
    "Tp_test_lr = lr.predict(F_test) "
   ]
  },
  {
   "cell_type": "code",
   "execution_count": 46,
   "id": "a8fbca92",
   "metadata": {
    "scrolled": true
   },
   "outputs": [
    {
     "name": "stdout",
     "output_type": "stream",
     "text": [
      "Confusion Matrix\n",
      " [[150  13]\n",
      " [ 41  35]]\n",
      "Accuracy: 0.7740585774058577\n",
      "Precision: 0.7291666666666666\n",
      "Recall: 0.4605263157894737\n",
      "F1 Score: 0.564516129032258\n"
     ]
    },
    {
     "data": {
      "image/png": "[encoded data removed]",
      "text/plain": [
       "<Figure size 432x288 with 2 Axes>"
      ]
     },
     "metadata": {
      "needs_background": "light"
     },
     "output_type": "display_data"
    }
   ],
   "source": [
    "## 2.2 Model Evaluation - Training Set\n",
    "\n",
    "# import the metrics class\n",
    "from sklearn.metrics import accuracy_score, precision_score, recall_score, f1_score\n",
    "from sklearn.metrics import confusion_matrix, plot_confusion_matrix\n",
    "\n",
    "cm_train_lr = confusion_matrix(T_train, Tp_train_lr)\n",
    "print('Confusion Matrix\\n', cm_train_lr)\n",
    "\n",
    "plt_cm_train_lr = plot_confusion_matrix(lr, F_train, T_train,\n",
    "                                       display_labels=['Alive','Dead'],\n",
    "                                       cmap=plt.cm.Blues,\n",
    "                                       normalize='true')\n",
    "plt_cm_train_lr.ax_.set_title('Confusion Matrix - Logistic Regression (Training Set)')\n",
    "\n",
    "# Print Evaluation Metrics\n",
    "print(\"Accuracy:\",accuracy_score(T_train, Tp_train_lr))\n",
    "print(\"Precision:\",precision_score(T_train, Tp_train_lr))\n",
    "print(\"Recall:\",recall_score(T_train, Tp_train_lr))\n",
    "print(\"F1 Score:\",f1_score(T_train, Tp_train_lr))"
   ]
  },
  {
   "cell_type": "code",
   "execution_count": 47,
   "id": "e5c6e532",
   "metadata": {
    "scrolled": true
   },
   "outputs": [
    {
     "name": "stdout",
     "output_type": "stream",
     "text": [
      "Confusion Matrix\n",
      " [[36  4]\n",
      " [16  4]]\n",
      "Accuracy: 0.6666666666666666\n",
      "Precision: 0.5\n",
      "Recall: 0.2\n",
      "F1 Score: 0.28571428571428575\n"
     ]
    },
    {
     "data": {
      "image/png": "[encoded data removed]",
      "text/plain": [
       "<Figure size 432x288 with 2 Axes>"
      ]
     },
     "metadata": {
      "needs_background": "light"
     },
     "output_type": "display_data"
    }
   ],
   "source": [
    "## 2.2 Model Evaluation - Test Set\n",
    "\n",
    "cm_test_lr = confusion_matrix(T_test, Tp_test_lr)\n",
    "print('Confusion Matrix\\n', cm_test_lr)\n",
    "\n",
    "plt_cm_test_lr = plot_confusion_matrix(lr, F_test, T_test,\n",
    "                                       display_labels=['Alive','Dead'],\n",
    "                                       cmap=plt.cm.Blues,\n",
    "                                       normalize='true')\n",
    "plt_cm_test_lr.ax_.set_title('Confusion Matrix - Logistic Regression (Training Set)')\n",
    "\n",
    "# Print Evaluation Metrics\n",
    "print(\"Accuracy:\",accuracy_score(T_test, Tp_test_lr))\n",
    "print(\"Precision:\",precision_score(T_test, Tp_test_lr))\n",
    "print(\"Recall:\",recall_score(T_test, Tp_test_lr))\n",
    "print(\"F1 Score:\",f1_score(T_test, Tp_test_lr))"
   ]
  },
  {
   "cell_type": "markdown",
   "id": "a4d04ca0",
   "metadata": {},
   "source": [
    "# 3. K-Nearest Neighbor"
   ]
  },
  {
   "cell_type": "code",
   "execution_count": 67,
   "id": "684cd03d",
   "metadata": {},
   "outputs": [],
   "source": [
    "## 3.1 Model Training\n",
    "# Import the class\n",
    "from sklearn.neighbors import KNeighborsClassifier\n",
    "\n",
    "# Model creation and training (using the default parameters)\n",
    "knn = []\n",
    "\n",
    "\n",
    "for i in range(10):\n",
    "    knn.append(KNeighborsClassifier(n_neighbors=(i+1)))\n",
    "    knn[i].fit(F_train,T_train)\n",
    "    Tp_train_knn = knn[i].predict(F_train)\n",
    "    Tp_test_knn = knn[i].predict(F_test)\n",
    "\n",
    "Tp_train_knn = knn[0].predict(F_train)\n",
    "# # Save the Trained Model\n",
    "# pickle.dump(MODEL_KNN, open('Model_KNeighborsClassifier.pkl', 'wb'))\n",
    "\n",
    "# Predict the Trained Model on our Test data"
   ]
  },
  {
   "cell_type": "code",
   "execution_count": 52,
   "id": "6fb3d185",
   "metadata": {},
   "outputs": [],
   "source": [
    "# Some Functions for Showing the Classifier Performance\n",
    "from sklearn.metrics import classification_report\n",
    "\n",
    "labels = ['Alive','Dead']\n",
    "def classifier_performance(model,T,F,Tp,index):\n",
    "    print('Classification Report (k = %i):', )\n",
    "    print(classification_report(T_test,Tp,target_names=labels))\n",
    "    \n",
    "    # Plot normalized confusion matrix\n",
    "    titles_options = [(\"Confusion matrix, without normalization\", None),\n",
    "                      (\"Normalized confusion matrix\", 'true')]\n",
    "    for title, normalize in titles_options:\n",
    "        disp = plot_confusion_matrix(model, X_test, y_test,\n",
    "                                     display_labels=labels,\n",
    "                                     cmap=plt.cm.Blues,\n",
    "                                     normalize=normalize)\n",
    "        disp.ax_.set_title(title)\n",
    "        print(title)\n",
    "        print(disp.confusion_matrix)\n",
    "    plt.show()\n",
    "    return"
   ]
  },
  {
   "cell_type": "code",
   "execution_count": 53,
   "id": "d3e6767b",
   "metadata": {},
   "outputs": [
    {
     "ename": "NameError",
     "evalue": "name 'Tp_train_knn' is not defined",
     "output_type": "error",
     "traceback": [
      "\u001b[1;31m---------------------------------------------------------------------------\u001b[0m",
      "\u001b[1;31mNameError\u001b[0m                                 Traceback (most recent call last)",
      "\u001b[1;32m~\\AppData\\Local\\Temp/ipykernel_17900/1673827818.py\u001b[0m in \u001b[0;36m<module>\u001b[1;34m\u001b[0m\n\u001b[0;32m      3\u001b[0m \u001b[1;33m\u001b[0m\u001b[0m\n\u001b[0;32m      4\u001b[0m \u001b[1;32mfor\u001b[0m \u001b[0mi\u001b[0m \u001b[1;32min\u001b[0m \u001b[0mrange\u001b[0m\u001b[1;33m(\u001b[0m\u001b[1;36m10\u001b[0m\u001b[1;33m)\u001b[0m\u001b[1;33m:\u001b[0m\u001b[1;33m\u001b[0m\u001b[1;33m\u001b[0m\u001b[0m\n\u001b[1;32m----> 5\u001b[1;33m     \u001b[0mclassifier_performance\u001b[0m\u001b[1;33m(\u001b[0m\u001b[0mknn\u001b[0m\u001b[1;33m,\u001b[0m\u001b[0mTp_train_knn\u001b[0m\u001b[1;33m)\u001b[0m\u001b[1;33m\u001b[0m\u001b[1;33m\u001b[0m\u001b[0m\n\u001b[0m",
      "\u001b[1;31mNameError\u001b[0m: name 'Tp_train_knn' is not defined"
     ]
    }
   ],
   "source": [
    "## 3.2 Model Evaluation - Training Set\n",
    "# Print the Classification Report and Confusion Matrix\n",
    "\n",
    "for i in range(10):\n",
    "    classifier_performance(knn,Tp_train_knn)"
   ]
  },
  {
   "cell_type": "code",
   "execution_count": 54,
   "id": "a74343d5",
   "metadata": {},
   "outputs": [
    {
     "ename": "TypeError",
     "evalue": "classifier_performance() missing 3 required positional arguments: 'F', 'Tp', and 'index'",
     "output_type": "error",
     "traceback": [
      "\u001b[1;31m---------------------------------------------------------------------------\u001b[0m",
      "\u001b[1;31mTypeError\u001b[0m                                 Traceback (most recent call last)",
      "\u001b[1;32m~\\AppData\\Local\\Temp/ipykernel_17900/2368858209.py\u001b[0m in \u001b[0;36m<module>\u001b[1;34m\u001b[0m\n\u001b[0;32m      1\u001b[0m \u001b[1;31m## 3.2 Model Evaluation - Test Set\u001b[0m\u001b[1;33m\u001b[0m\u001b[1;33m\u001b[0m\u001b[0m\n\u001b[0;32m      2\u001b[0m \u001b[1;32mfor\u001b[0m \u001b[0mi\u001b[0m \u001b[1;32min\u001b[0m \u001b[0mrange\u001b[0m\u001b[1;33m(\u001b[0m\u001b[1;36m10\u001b[0m\u001b[1;33m)\u001b[0m\u001b[1;33m:\u001b[0m\u001b[1;33m\u001b[0m\u001b[1;33m\u001b[0m\u001b[0m\n\u001b[1;32m----> 3\u001b[1;33m     \u001b[0mclassifier_performance\u001b[0m\u001b[1;33m(\u001b[0m\u001b[0mknn\u001b[0m\u001b[1;33m,\u001b[0m\u001b[0mTp_test_knn\u001b[0m\u001b[1;33m)\u001b[0m\u001b[1;33m\u001b[0m\u001b[1;33m\u001b[0m\u001b[0m\n\u001b[0m",
      "\u001b[1;31mTypeError\u001b[0m: classifier_performance() missing 3 required positional arguments: 'F', 'Tp', and 'index'"
     ]
    }
   ],
   "source": [
    "## 3.2 Model Evaluation - Test Set\n",
    "for i in range(10):\n",
    "    classifier_performance(knn,Tp_test_knn)"
   ]
  },
  {
   "cell_type": "code",
   "execution_count": 55,
   "id": "6c74153a",
   "metadata": {},
   "outputs": [],
   "source": [
    "## 3.3 Model Plotting\n"
   ]
  },
  {
   "cell_type": "markdown",
   "id": "37d8ae2b",
   "metadata": {},
   "source": [
    "# 4. Feature Extraction"
   ]
  },
  {
   "cell_type": "code",
   "execution_count": 3,
   "id": "8c4a751d",
   "metadata": {},
   "outputs": [],
   "source": [
    "## 4.1 Data Import\n",
    "from scipy.io import loadmat \n",
    "from tslearn.metrics import dtw\n",
    "\n",
    "# a_list = list(range(0, len(normal_beats)))\n",
    "normal_beats = loadmat('datasets/multi_class/NORMAL_BEATS.mat')['NORMAL_BEATS']\n",
    "normal = loadmat('datasets/multi_class/NORMAL.mat')['NORMAL']\n",
    "\n",
    "apc_beats = loadmat('datasets/multi_class/APC_BEATS.mat')['APC_BEATS']\n",
    "apc = loadmat('datasets/multi_class/APC.mat')['APC']\n",
    "\n",
    "pvc_beats = loadmat('datasets/multi_class/PVC_BEATS.mat')['PVC_BEATS']\n",
    "pvc = loadmat('datasets/multi_class/PVC.mat')['PVC']\n",
    "\n",
    "lbbb_beats = loadmat('datasets/multi_class/LBBB_BEATS.mat')['LBBB_BEATS']\n",
    "lbbb = loadmat('datasets/multi_class/LBBB.mat')['LBBB']\n",
    "\n",
    "rbbb_beats = loadmat('datasets/multi_class/RBBB_BEATS.mat')['RBBB_BEATS']\n",
    "rbbb = loadmat('datasets/multi_class/RBBB.mat')['RBBB']"
   ]
  },
  {
   "cell_type": "code",
   "execution_count": 8,
   "id": "95eaaa25",
   "metadata": {
    "scrolled": true
   },
   "outputs": [],
   "source": [
    "## 4.2 - Dataframe Dreation \n",
    "beats = [apc_beats, lbbb_beats, normal_beats, pvc_beats, rbbb_beats]\n",
    "ground = [apc, lbbb, normal, pvc, rbbb]\n",
    "label = ['F1','F2','F3','F4','F5','Class']\n",
    "\n",
    "# Function that creates dataframe comparing beat type with all ground truths\n",
    "def df_dtw(classification):\n",
    "    df_dtw = pd.DataFrame()\n",
    "    temp_dtw = []\n",
    "\n",
    "    for i in range(len(beats)):\n",
    "        for j in range(len(beats[classification][0])):\n",
    "            temp_dtw.append(dtw(ground[i], beats[classification][:,j]))\n",
    "\n",
    "        df_dtw[label[i]] = temp_dtw\n",
    "        temp_dtw = []\n",
    "\n",
    "    temp_class = [classification]*2000\n",
    "    df_dtw['Class'] = temp_class\n",
    "    \n",
    "    return df_dtw"
   ]
  },
  {
   "cell_type": "code",
   "execution_count": 19,
   "id": "db05481e",
   "metadata": {},
   "outputs": [],
   "source": [
    "# Collating all the beat dataframes\n",
    "list_dtw = [dtw_apc, dtw_lbbb, dtw_normal, dtw_pvc, dtw_rbbb]\n",
    "\n",
    "for i in range(len(list_dtw)): \n",
    "    list_dtw[i] = df_dtw(i)\n",
    "    \n",
    "df_dtw = pd.concat(list_dtw)"
   ]
  },
  {
   "cell_type": "markdown",
   "id": "2f7017f2",
   "metadata": {},
   "source": [
    "# 5. Multi-Class Evaluaton"
   ]
  },
  {
   "cell_type": "code",
   "execution_count": 40,
   "id": "7c3412a1",
   "metadata": {},
   "outputs": [],
   "source": [
    "## Splitting data into 80/20 training/test split\n",
    "\n",
    "# Split features and targets: F=Features, T=Targets\n",
    "F = df_dtw.iloc[:, :-1]\n",
    "T = df_dtw['Class']\n",
    "\n",
    "# Splitting dataset into training and test sets\n",
    "from sklearn.model_selection import train_test_split\n",
    "F_train, F_test, T_train, T_test = train_test_split(F, T, test_size=0.2)"
   ]
  },
  {
   "cell_type": "code",
   "execution_count": null,
   "id": "9117b0ec",
   "metadata": {},
   "outputs": [],
   "source": [
    "## 5.1 - Model Creation\n"
   ]
  }
 ],
 "metadata": {
  "kernelspec": {
   "display_name": "Python 3 (ipykernel)",
   "language": "python",
   "name": "python3"
  },
  "language_info": {
   "codemirror_mode": {
    "name": "ipython",
    "version": 3
   },
   "file_extension": ".py",
   "mimetype": "text/x-python",
   "name": "python",
   "nbconvert_exporter": "python",
   "pygments_lexer": "ipython3",
   "version": "3.9.7"
  },
  "varInspector": {
   "cols": {
    "lenName": 16,
    "lenType": 16,
    "lenVar": 40
   },
   "kernels_config": {
    "python": {
     "delete_cmd_postfix": "",
     "delete_cmd_prefix": "del ",
     "library": "var_list.py",
     "varRefreshCmd": "print(var_dic_list())"
    },
    "r": {
     "delete_cmd_postfix": ") ",
     "delete_cmd_prefix": "rm(",
     "library": "var_list.r",
     "varRefreshCmd": "cat(var_dic_list()) "
    }
   },
   "oldHeight": 396.825,
   "position": {
    "height": "418.812px",
    "left": "1322.19px",
    "right": "20px",
    "top": "104px",
    "width": "522px"
   },
   "types_to_exclude": [
    "module",
    "function",
    "builtin_function_or_method",
    "instance",
    "_Feature"
   ],
   "varInspector_section_display": "block",
   "window_display": true
  }
 },
 "nbformat": 4,
 "nbformat_minor": 5
}
