{
 "cells": [
  {
   "cell_type": "code",
   "execution_count": 16,
   "id": "965ae8d3",
   "metadata": {},
   "outputs": [],
   "source": [
    "# Load General Libraries\n",
    "\n",
    "import numpy as np\n",
    "# NumPy is a Python library used for working with arrays.\n",
    "# It also has functions for working in domain of linear algebra, fourier transform, and matrices.\n",
    "\n",
    "import pandas as pd\n",
    "# For data manipulation and analysis.\n",
    "# data structures and operations for manipulating numerical tables and time series.\n",
    "\n",
    "import pickle\n",
    "# for serializing and de-serializing a Python object structure.\n",
    "# Any object in Python can be pickled so that it can be saved on disk\n",
    "# Pickling is a way to convert a python object (list, dict, etc.) into a character stream\n",
    "# which contains all the information necessary to reconstruct the object in another python script.\n",
    "\n",
    "import matplotlib.pyplot as plt\n",
    "# data visualization and graphical plotting library \n",
    "\n",
    "import seaborn as sns\n",
    "# a library for making statistical graphics in Python"
   ]
  },
  {
   "cell_type": "code",
   "execution_count": 43,
   "id": "908e63f3",
   "metadata": {},
   "outputs": [
    {
     "data": {
      "text/plain": [
       "3.7311531027491367"
      ]
     },
     "execution_count": 43,
     "metadata": {},
     "output_type": "execute_result"
    }
   ],
   "source": [
    "from scipy.io import loadmat \n",
    "from tslearn.metrics import dtw\n",
    "\n",
    "# a_list = list(range(0, len(normal_beats)))\n",
    "normal_beats = loadmat('datasets/multi_class/NORMAL_BEATS.mat')['NORMAL_BEATS']\n",
    "normal = loadmat('datasets/multi_class/NORMAL.mat')['NORMAL']\n",
    "\n",
    "apc_beats = loadmat('datasets/multi_class/APC_BEATS.mat')['APC_BEATS']\n",
    "apc = loadmat('datasets/multi_class/APC.mat')['APC']\n",
    "\n",
    "pvc_beats = loadmat('datasets/multi_class/PVC_BEATS.mat')['PVC_BEATS']\n",
    "pvc = loadmat('datasets/multi_class/PVC.mat')['PVC']\n",
    "\n",
    "lbbb_beats = loadmat('datasets/multi_class/LBBB_BEATS.mat')['LBBB_BEATS']\n",
    "lbbb = loadmat('datasets/multi_class/LBBB.mat')['LBBB']\n",
    "\n",
    "rbbb_beats = loadmat('datasets/multi_class/RBBB_BEATS.mat')['RBBB_BEATS']\n",
    "rbbb = loadmat('datasets/multi_class/RBBB.mat')['RBBB']\n",
    "\n",
    "# normal_beats[:,0].size\n",
    "# plt.scatter(a_list, normal_beats[:,1999])\n",
    "dtw(normal, normal_beats[:,0])"
   ]
  },
  {
   "cell_type": "code",
   "execution_count": null,
   "id": "aafc4dbe",
   "metadata": {},
   "outputs": [],
   "source": []
  }
 ],
 "metadata": {
  "kernelspec": {
   "display_name": "Python 3 (ipykernel)",
   "language": "python",
   "name": "python3"
  },
  "language_info": {
   "codemirror_mode": {
    "name": "ipython",
    "version": 3
   },
   "file_extension": ".py",
   "mimetype": "text/x-python",
   "name": "python",
   "nbconvert_exporter": "python",
   "pygments_lexer": "ipython3",
   "version": "3.9.7"
  },
  "varInspector": {
   "cols": {
    "lenName": 16,
    "lenType": 16,
    "lenVar": 40
   },
   "kernels_config": {
    "python": {
     "delete_cmd_postfix": "",
     "delete_cmd_prefix": "del ",
     "library": "var_list.py",
     "varRefreshCmd": "print(var_dic_list())"
    },
    "r": {
     "delete_cmd_postfix": ") ",
     "delete_cmd_prefix": "rm(",
     "library": "var_list.r",
     "varRefreshCmd": "cat(var_dic_list()) "
    }
   },
   "oldHeight": 346.85,
   "position": {
    "height": "368.85px",
    "left": "953.2px",
    "right": "20px",
    "top": "119px",
    "width": "500px"
   },
   "types_to_exclude": [
    "module",
    "function",
    "builtin_function_or_method",
    "instance",
    "_Feature"
   ],
   "varInspector_section_display": "block",
   "window_display": true
  }
 },
 "nbformat": 4,
 "nbformat_minor": 5
}
