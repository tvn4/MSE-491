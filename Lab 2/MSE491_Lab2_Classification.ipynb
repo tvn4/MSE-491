{
 "cells": [
  {
   "cell_type": "markdown",
   "metadata": {},
   "source": [
    "# Simon Fraser University - Mechatronic Systems Engineering\n",
    "## Spring 2021 - MSE491 - Application of Machine Learning in Mechatronic Systems\n",
    "## Instructor: Dr. Mohammad Narimani\n",
    "\n",
    "## Lab 2 - Classification\n",
    "### Presenter: Samira Asadi - saa143@sfu.ca\n"
   ]
  },
  {
   "cell_type": "code",
   "execution_count": null,
   "metadata": {},
   "outputs": [],
   "source": [
    "# Load General Libraries\n",
    "import numpy as np\n",
    "import pandas as pd\n",
    "import pickle\n",
    "import matplotlib.pyplot as plt\n",
    "\n",
    "# Importing the dataset (no header)\n",
    "df0 = pd.read_csv(\"EMG\\EMG_0.csv\", header=None)\n",
    "df1 = pd.read_csv(\"EMG\\EMG_1.csv\", header=None)\n",
    "df2 = pd.read_csv(\"EMG\\EMG_2.csv\", header=None)\n",
    "df3 = pd.read_csv(\"EMG\\EMG_3.csv\", header=None)\n",
    "dataset = pd.concat([df0,df1,df2,df3], axis = 0)\n",
    "\n",
    "# Importing hand gestures images\n",
    "import matplotlib.image as mpimg\n",
    "img0 = mpimg.imread('EMG/0.jpg')\n",
    "img1 = mpimg.imread('EMG/1.jpg')\n",
    "img2 = mpimg.imread('EMG/2.jpg')\n",
    "img3 = mpimg.imread('EMG/3.jpg')"
   ]
  },
  {
   "cell_type": "markdown",
   "metadata": {},
   "source": [
    "# Binary Classification"
   ]
  },
  {
   "cell_type": "code",
   "execution_count": null,
   "metadata": {},
   "outputs": [],
   "source": [
    "# Creating a Binary Dataset (by only considering 2 labels)\n",
    "# Class 0: Closed Fist\n",
    "# Class 1: Open Hand\n",
    "\n",
    "dataset_binary = dataset[dataset.iloc[:, -1].isin([0,2])]\n",
    "dataset_binary.iloc[:, -1].replace(to_replace=2, value=1, inplace=True)\n",
    "\n",
    "# Split features and targets - X: Features, y: Targets\n",
    "X_binary = dataset_binary.iloc[:, :-1]\n",
    "y_binary = dataset_binary.iloc[:, -1].values\n",
    "\n",
    "# Splitting the dataset into the Training set and Test set\n",
    "from sklearn.model_selection import train_test_split\n",
    "X_train_binary, X_test_binary, y_train_binary, y_test_binary = train_test_split(X_binary, y_binary, test_size=0.2)\n",
    "\n",
    "# Save Test Set\n",
    "np.savetxt(\"features_emg_test_binary.csv\", X_test_binary, delimiter=\",\")\n",
    "np.savetxt(\"targets_emg_test_binary.csv\", y_test_binary, delimiter=\",\")\n",
    "\n",
    "# Standardize features by removing the mean and scaling to unit variance\n",
    "from sklearn.preprocessing import StandardScaler\n",
    "X_train_binary = pd.DataFrame(StandardScaler().fit_transform(X_train_binary))\n",
    "X_test_binary = pd.DataFrame(StandardScaler().fit_transform(X_test_binary))"
   ]
  },
  {
   "cell_type": "code",
   "execution_count": null,
   "metadata": {},
   "outputs": [],
   "source": [
    "# Display what each label refers to - Binary Classification\n",
    "fig = plt.figure()\n",
    "plt.subplot(1, 2, 1)\n",
    "plt.imshow(img0)\n",
    "plt.axis('off')\n",
    "plt.title('0 - Closed Fist')\n",
    "plt.subplot(1, 2, 2)\n",
    "plt.imshow(img2)\n",
    "plt.axis('off')\n",
    "plt.title('1 - Open Hand')\n",
    "plt.show()"
   ]
  },
  {
   "cell_type": "markdown",
   "metadata": {},
   "source": [
    "## Test the difference between the mean values of two features from different classes"
   ]
  },
  {
   "cell_type": "code",
   "execution_count": null,
   "metadata": {},
   "outputs": [],
   "source": [
    "from scipy.stats import ttest_ind\n",
    "\n",
    "FEATURES_C1 = dataset_binary[dataset_binary.iloc[:, -1]==0] # features for closed fist\n",
    "FEATURES_C2 = dataset_binary[dataset_binary.iloc[:, -1]==1] # features for open hand\n",
    "\n",
    "# Test the significance\n",
    "T_STATISTIC, P_VALUE = ttest_ind(FEATURES_C1.iloc[:, 0],FEATURES_C2.iloc[:, 0])\n",
    "\n",
    "print(\"p-value =\", P_VALUE)\n",
    "# if the p-value is less than 0.05 we have significant different between feature values\n",
    "if P_VALUE < 0.05:\n",
    "    print(\"significant\")\n",
    "else:\n",
    "    print(\"not significant\")"
   ]
  },
  {
   "cell_type": "markdown",
   "metadata": {},
   "source": [
    "## Logistic Regression"
   ]
  },
  {
   "cell_type": "code",
   "execution_count": null,
   "metadata": {},
   "outputs": [],
   "source": [
    "# Import the class\n",
    "from sklearn.linear_model import LogisticRegression\n",
    "\n",
    "# Instantiating the model (using the default parameters)\n",
    "logreg = LogisticRegression()\n",
    "\n",
    "# Fitting the model with data\n",
    "logreg.fit(X_train_binary,y_train_binary)\n",
    "\n",
    "# Save the Trained Model\n",
    "pickle.dump(logreg, open('Model_LogisticRegression.pkl', 'wb'))\n",
    "\n",
    "# Predicting the labels on test set\n",
    "y_pred_binary = logreg.predict(X_test_binary)"
   ]
  },
  {
   "cell_type": "markdown",
   "metadata": {},
   "source": [
    "## Model Evaluation using Confusion Matrix"
   ]
  },
  {
   "cell_type": "code",
   "execution_count": null,
   "metadata": {},
   "outputs": [],
   "source": [
    "# import the metrics class\n",
    "from sklearn.metrics import accuracy_score, precision_score, recall_score, f1_score\n",
    "from sklearn.metrics import confusion_matrix, plot_confusion_matrix\n",
    "cnf_matrix = confusion_matrix(y_test_binary, y_pred_binary)\n",
    "print('Confusion Matrix\\n', cnf_matrix)\n",
    "\n",
    "plt_cnf_matrix = plot_confusion_matrix(logreg, X_test_binary, y_test_binary,\n",
    "                                       display_labels=['Closed Fist','Open Hand'],\n",
    "                                       cmap=plt.cm.Blues,\n",
    "                                       normalize='true')\n",
    "plt_cnf_matrix.ax_.set_title('Confusion Matrix - Binary Classification')\n",
    "\n",
    "# Print Evaluation Metrics\n",
    "print(\"Accuracy:\",accuracy_score(y_test_binary, y_pred_binary))\n",
    "print(\"Precision:\",precision_score(y_test_binary, y_pred_binary))\n",
    "print(\"Recall:\",recall_score(y_test_binary, y_pred_binary))\n",
    "print(\"F1 Score:\",f1_score(y_test_binary, y_pred_binary))"
   ]
  },
  {
   "cell_type": "markdown",
   "metadata": {},
   "source": [
    "# Multi-Class Classification"
   ]
  },
  {
   "cell_type": "code",
   "execution_count": null,
   "metadata": {},
   "outputs": [],
   "source": [
    "# Multi-class dataset\n",
    "# Class 0: Closed Fist\n",
    "# Class 1: V Sign\n",
    "# Class 2: Open Hand\n",
    "# Class 3: OK Gesture\n",
    "# Split features and targets - X: Features, y: Targets\n",
    "X = dataset.iloc[:, :-1]\n",
    "y = dataset.iloc[:, -1].values\n",
    "\n",
    "# Splitting the dataset into the Training set and Test set\n",
    "from sklearn.model_selection import train_test_split\n",
    "X_train, X_test, y_train, y_test = train_test_split(X, y, test_size=0.2)\n",
    "\n",
    "# Save Test Set\n",
    "np.savetxt(\"features_emg_test.csv\", X_test, delimiter=\",\")\n",
    "np.savetxt(\"targets_emg_test.csv\", y_test, delimiter=\",\")\n",
    "\n",
    "# Standardize features by removing the mean and scaling to unit variance\n",
    "from sklearn.preprocessing import StandardScaler\n",
    "X_train = pd.DataFrame(StandardScaler().fit_transform(X_train))\n",
    "X_test = pd.DataFrame(StandardScaler().fit_transform(X_test))"
   ]
  },
  {
   "cell_type": "code",
   "execution_count": null,
   "metadata": {},
   "outputs": [],
   "source": [
    "print(X_train.shape)"
   ]
  },
  {
   "cell_type": "code",
   "execution_count": null,
   "metadata": {},
   "outputs": [],
   "source": [
    "# Display what each label refers to - Multi-class Classification\n",
    "fig = plt.figure()\n",
    "plt.subplot(2, 2, 1)\n",
    "plt.imshow(img0)\n",
    "plt.axis('off')\n",
    "plt.title('0 - Closed Fist')\n",
    "plt.subplot(2, 2, 2)\n",
    "plt.imshow(img1)\n",
    "plt.axis('off')\n",
    "plt.title('1 - V Sign')\n",
    "plt.subplot(2, 2, 3)\n",
    "plt.imshow(img2)\n",
    "plt.axis('off')\n",
    "plt.title('2 - Open Hand')\n",
    "plt.subplot(2, 2, 4)\n",
    "plt.imshow(img3)\n",
    "plt.axis('off')\n",
    "plt.title('3 - OK Gesture')\n",
    "plt.show()"
   ]
  },
  {
   "cell_type": "markdown",
   "metadata": {},
   "source": [
    "# Classification Models"
   ]
  },
  {
   "cell_type": "code",
   "execution_count": null,
   "metadata": {},
   "outputs": [],
   "source": [
    "# Some Functions for Showing the Classifier Performance\n",
    "from sklearn.metrics import classification_report\n",
    "from sklearn.metrics import plot_confusion_matrix\n",
    "\n",
    "labels = ['Closed Fist','V Sign','Open Hand','OK Gesture']\n",
    "def classifier_performance(model,y_pred):\n",
    "    print('Classification Report: \\n', classification_report(y_test,y_pred,target_names=labels))\n",
    "    # Plot normalized confusion matrix\n",
    "    titles_options = [(\"Confusion matrix, without normalization\", None),\n",
    "                      (\"Normalized confusion matrix\", 'true')]\n",
    "    for title, normalize in titles_options:\n",
    "        disp = plot_confusion_matrix(model, X_test, y_test,\n",
    "                                     display_labels=labels,\n",
    "                                     cmap=plt.cm.Blues,\n",
    "                                     normalize=normalize)\n",
    "        disp.ax_.set_title(title)\n",
    "        print(title)\n",
    "        print(disp.confusion_matrix)\n",
    "    plt.show()\n",
    "    return"
   ]
  },
  {
   "cell_type": "markdown",
   "metadata": {},
   "source": [
    "### K Nearest Neighbors Classification"
   ]
  },
  {
   "cell_type": "code",
   "execution_count": null,
   "metadata": {},
   "outputs": [],
   "source": [
    "# Import the class\n",
    "from sklearn.neighbors import KNeighborsClassifier\n",
    "\n",
    "# Instantiating the model (using the default parameters)\n",
    "MODEL_KNN = KNeighborsClassifier(n_neighbors=5)\n",
    "\n",
    "# Train the Model\n",
    "MODEL_KNN.fit(X_train,y_train)\n",
    "\n",
    "# Save the Trained Model\n",
    "pickle.dump(MODEL_KNN, open('Model_KNeighborsClassifier.pkl', 'wb'))\n",
    "\n",
    "# Predict the Trained Model on our Test data\n",
    "y_pred_KNN = MODEL_KNN.predict(X_test)\n",
    "\n",
    "# Print the Classification Report and Confusion Matrix\n",
    "classifier_performance(MODEL_KNN,y_pred_KNN)"
   ]
  },
  {
   "cell_type": "markdown",
   "metadata": {},
   "source": [
    "### Decision Trees Classification"
   ]
  },
  {
   "cell_type": "code",
   "execution_count": null,
   "metadata": {},
   "outputs": [],
   "source": [
    "# Import the class\n",
    "from sklearn.tree import DecisionTreeClassifier\n",
    "\n",
    "# Instantiating the model (using the default parameters)\n",
    "MODEL_DT = DecisionTreeClassifier()\n",
    "\n",
    "# Train the Model\n",
    "MODEL_DT.fit(X_train,y_train)\n",
    "\n",
    "# Save the Trained Model\n",
    "pickle.dump(MODEL_DT, open('DecisionTreeClassifier.pkl', 'wb'))\n",
    "\n",
    "# Predict the Trained Model on our Test data\n",
    "y_pred_DT = MODEL_DT.predict(X_test)\n",
    "\n",
    "# Print the Classification Report and Confusion Matrix\n",
    "classifier_performance(MODEL_DT,y_pred_DT)"
   ]
  },
  {
   "cell_type": "markdown",
   "metadata": {},
   "source": [
    "### Gaussian Naive Bayes Classification"
   ]
  },
  {
   "cell_type": "code",
   "execution_count": null,
   "metadata": {},
   "outputs": [],
   "source": [
    "# Import the class\n",
    "from sklearn.naive_bayes import GaussianNB\n",
    "\n",
    "# Instantiating the model (using the default parameters)\n",
    "MODEL_GNB = GaussianNB()\n",
    "\n",
    "# Train the Model\n",
    "MODEL_GNB.fit(X_train,y_train)\n",
    "\n",
    "# Save the Trained Model\n",
    "pickle.dump(MODEL_GNB, open('Model_GaussianNB.pkl', 'wb'))\n",
    "\n",
    "# Predict the Trained Model on our Test data\n",
    "y_pred_GNB = MODEL_GNB.predict(X_test)\n",
    "\n",
    "# Print the Classification Report and Confusion Matrix\n",
    "classifier_performance(MODEL_GNB,y_pred_GNB)"
   ]
  },
  {
   "cell_type": "markdown",
   "metadata": {},
   "source": [
    "### Support Vector Machines"
   ]
  },
  {
   "cell_type": "code",
   "execution_count": null,
   "metadata": {},
   "outputs": [],
   "source": [
    "# Import the class\n",
    "from sklearn.svm import SVC\n",
    "\n",
    "# Instantiating the model (using the default parameters)\n",
    "MODEL_SVM = SVC()\n",
    "\n",
    "# Train the Model\n",
    "MODEL_SVM.fit(X_train,y_train)\n",
    "\n",
    "# Save the Trained Model\n",
    "pickle.dump(MODEL_SVM, open('Model_SupportVectorClasifier.pkl', 'wb'))\n",
    "\n",
    "# Predict the Trained Model on our Test data\n",
    "y_pred_SVM = MODEL_SVM.predict(X_test)\n",
    "\n",
    "# Print the Classification Report and Confusion Matrix\n",
    "classifier_performance(MODEL_SVM,y_pred_SVM)"
   ]
  },
  {
   "cell_type": "code",
   "execution_count": null,
   "metadata": {},
   "outputs": [],
   "source": []
  }
 ],
 "metadata": {
  "kernelspec": {
   "display_name": "Python 3 (ipykernel)",
   "language": "python",
   "name": "python3"
  },
  "language_info": {
   "codemirror_mode": {
    "name": "ipython",
    "version": 3
   },
   "file_extension": ".py",
   "mimetype": "text/x-python",
   "name": "python",
   "nbconvert_exporter": "python",
   "pygments_lexer": "ipython3",
   "version": "3.9.7"
  }
 },
 "nbformat": 4,
 "nbformat_minor": 4
}
