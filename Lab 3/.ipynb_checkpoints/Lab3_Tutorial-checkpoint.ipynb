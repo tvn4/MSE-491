{
 "cells": [
  {
   "cell_type": "markdown",
   "metadata": {},
   "source": [
    "# Lab 3 _ Neural Netwroks and Deep Learning _ Spring 2022\n",
    "## TA for Lab 3: Afagh (amohaghe@sfu.ca)\n",
    "### Original Content Credit: Yasaman Vaghei"
   ]
  },
  {
   "cell_type": "code",
   "execution_count": 1,
   "metadata": {
    "id": "v08-ICw-Ap-C"
   },
   "outputs": [],
   "source": [
    "# TensorFlow is a free and open-source software library for machine learning and artificial intelligence.\n",
    "# With a particular focus on training and inference of deep neural networks.\n",
    "import tensorflow as tf\n",
    "# Keras is an open-source software library that acts as an interface for the TensorFlow library.\n",
    "from tensorflow import keras\n",
    "import matplotlib.pyplot as plt\n",
    "%matplotlib inline\n",
    "import numpy as np"
   ]
  },
  {
   "cell_type": "code",
   "execution_count": 2,
   "metadata": {
    "colab": {
     "base_uri": "https://localhost:8080/"
    },
    "id": "09rKGM4DAsMN",
    "outputId": "7d852cff-771e-4a71-a6f7-73014ac475ef"
   },
   "outputs": [],
   "source": [
    "# Load the mnist handwritten digits dataset from keras\n",
    "(X_train, y_train) , (X_test, y_test) = keras.datasets.mnist.load_data()"
   ]
  },
  {
   "cell_type": "code",
   "execution_count": 3,
   "metadata": {
    "colab": {
     "base_uri": "https://localhost:8080/"
    },
    "id": "IskhYI2jAwBh",
    "outputId": "4996cfbd-93ea-41f0-d630-d5f9004479e0"
   },
   "outputs": [
    {
     "data": {
      "text/plain": [
       "60000"
      ]
     },
     "execution_count": 3,
     "metadata": {},
     "output_type": "execute_result"
    }
   ],
   "source": [
    "# train dataset size\n",
    "len(X_train)"
   ]
  },
  {
   "cell_type": "code",
   "execution_count": 4,
   "metadata": {
    "colab": {
     "base_uri": "https://localhost:8080/"
    },
    "id": "K49rx9s4A6nH",
    "outputId": "c4649989-de92-43c2-cadb-ddcf3848109f"
   },
   "outputs": [
    {
     "data": {
      "text/plain": [
       "10000"
      ]
     },
     "execution_count": 4,
     "metadata": {},
     "output_type": "execute_result"
    }
   ],
   "source": [
    "# test dataset size\n",
    "len(X_test)"
   ]
  },
  {
   "cell_type": "code",
   "execution_count": 5,
   "metadata": {
    "colab": {
     "base_uri": "https://localhost:8080/"
    },
    "id": "suUa6mkHA-5E",
    "outputId": "6181cf22-5c62-44d1-a907-77e60359f3f2"
   },
   "outputs": [
    {
     "data": {
      "text/plain": [
       "(28, 28)"
      ]
     },
     "execution_count": 5,
     "metadata": {},
     "output_type": "execute_result"
    }
   ],
   "source": [
    "# shape of a sample input image\n",
    "X_train[2].shape"
   ]
  },
  {
   "cell_type": "code",
   "execution_count": 6,
   "metadata": {
    "colab": {
     "base_uri": "https://localhost:8080/",
     "height": 293
    },
    "id": "mRXuVWabBC97",
    "outputId": "76731e24-3c51-4e23-8fa6-4e782e275a75"
   },
   "outputs": [
    {
     "data": {
      "text/plain": [
       "<matplotlib.image.AxesImage at 0x7f7a9d445100>"
      ]
     },
     "execution_count": 6,
     "metadata": {},
     "output_type": "execute_result"
    },
    {
     "data": {
      "image/png": "[encoded data removed]",
      "text/plain": [
       "<Figure size 288x288 with 1 Axes>"
      ]
     },
     "metadata": {
      "needs_background": "light"
     },
     "output_type": "display_data"
    }
   ],
   "source": [
    "# Look at a sample input image\n",
    "# Matshow displays an array as a matrix in a new figure window.\n",
    "plt.matshow(X_train[2])"
   ]
  },
  {
   "cell_type": "code",
   "execution_count": 7,
   "metadata": {
    "colab": {
     "base_uri": "https://localhost:8080/"
    },
    "id": "lJvlauvBBHBz",
    "outputId": "de41def0-699b-42c4-ea3b-c4fcf32bde5c"
   },
   "outputs": [
    {
     "data": {
      "text/plain": [
       "4"
      ]
     },
     "execution_count": 7,
     "metadata": {},
     "output_type": "execute_result"
    }
   ],
   "source": [
    "# Look at the label (output) associated with the sample input image\n",
    "y_train[2]"
   ]
  },
  {
   "cell_type": "code",
   "execution_count": 8,
   "metadata": {
    "id": "TOz0tt4zBNMV"
   },
   "outputs": [],
   "source": [
    "# scaling\n",
    "# You scale features to make them all of the same magnitude (i.e. importance or weight).\n",
    "X_train = X_train / 255\n",
    "X_test = X_test / 255"
   ]
  },
  {
   "cell_type": "code",
   "execution_count": 9,
   "metadata": {
    "id": "qwAd3K7fBTDZ"
   },
   "outputs": [
    {
     "name": "stdout",
     "output_type": "stream",
     "text": [
      "Input shape before flattening: (60000, 28, 28)\n",
      "Input shape after flattening: (60000, 784)\n"
     ]
    }
   ],
   "source": [
    "# Flattening the 2D array images\n",
    "print('Input shape before flattening:',X_train.shape)\n",
    "X_train_flattened = X_train.reshape(len(X_train), 28*28)\n",
    "print('Input shape after flattening:',X_train_flattened.shape)\n",
    "X_test_flattened = X_test.reshape(len(X_test), 28*28)"
   ]
  },
  {
   "cell_type": "code",
   "execution_count": 10,
   "metadata": {
    "colab": {
     "base_uri": "https://localhost:8080/"
    },
    "id": "t5Q6QkTCBZB3",
    "outputId": "218e03fc-493a-4717-870b-b6b1e9a09168"
   },
   "outputs": [],
   "source": [
    "# X_train_flattened.shape"
   ]
  },
  {
   "cell_type": "markdown",
   "metadata": {},
   "source": [
    "# Single-Layer Neural Network (Input + Output Layer)"
   ]
  },
  {
   "cell_type": "code",
   "execution_count": 11,
   "metadata": {
    "colab": {
     "base_uri": "https://localhost:8080/"
    },
    "id": "YVkpkAwsBcFg",
    "outputId": "302a09df-9666-4d9e-89cf-628c187dadfc"
   },
   "outputs": [
    {
     "name": "stdout",
     "output_type": "stream",
     "text": [
      "Epoch 1/5\n",
      "1875/1875 [==============================] - 1s 489us/step - loss: 0.6938 - accuracy: 0.8219\n",
      "Epoch 2/5\n",
      "1875/1875 [==============================] - 1s 497us/step - loss: 0.3088 - accuracy: 0.9139\n",
      "Epoch 3/5\n",
      "1875/1875 [==============================] - 1s 485us/step - loss: 0.2861 - accuracy: 0.9193\n",
      "Epoch 4/5\n",
      "1875/1875 [==============================] - 1s 481us/step - loss: 0.2714 - accuracy: 0.9236\n",
      "Epoch 5/5\n",
      "1875/1875 [==============================] - 1s 495us/step - loss: 0.2658 - accuracy: 0.9269\n"
     ]
    },
    {
     "data": {
      "text/plain": [
       "<tensorflow.python.keras.callbacks.History at 0x7f7a94a29730>"
      ]
     },
     "execution_count": 11,
     "metadata": {},
     "output_type": "execute_result"
    }
   ],
   "source": [
    "# sequential model -->>> a neural network with a stacks of layers\n",
    "# model = keras.Sequential([layer1,layer2,layer3,...])\n",
    "# layer1 = keras.layers.Dense(number_of_neurons, input_shape, activation= function)-input shape is only needed for first layer\n",
    "model = keras.Sequential([\n",
    "    keras.layers.Dense(10, input_shape=(784,), activation='sigmoid')\n",
    "])\n",
    "# Compile the NN model (configure the model before training)\n",
    "model.compile(optimizer='adam',\n",
    "              loss='sparse_categorical_crossentropy',\n",
    "              metrics=['accuracy'])\n",
    "# Fit model to the data\n",
    "model.fit(X_train_flattened, y_train, epochs=5)"
   ]
  },
  {
   "cell_type": "code",
   "execution_count": 12,
   "metadata": {
    "colab": {
     "base_uri": "https://localhost:8080/"
    },
    "id": "VSrV7WzuBn_s",
    "outputId": "e52862bd-4faf-4f9e-e6a5-545071d20bea"
   },
   "outputs": [
    {
     "name": "stdout",
     "output_type": "stream",
     "text": [
      "313/313 [==============================] - 0s 453us/step - loss: 0.2669 - accuracy: 0.9263\n"
     ]
    },
    {
     "data": {
      "text/plain": [
       "[0.26692160964012146, 0.9262999892234802]"
      ]
     },
     "execution_count": 12,
     "metadata": {},
     "output_type": "execute_result"
    }
   ],
   "source": [
    "# Evaluate the model\n",
    "model.evaluate(X_test_flattened, y_test)"
   ]
  },
  {
   "cell_type": "code",
   "execution_count": 13,
   "metadata": {
    "colab": {
     "base_uri": "https://localhost:8080/",
     "height": 293
    },
    "id": "S-krU_5OBp3Y",
    "outputId": "7d9992a8-f7b1-4924-a7b0-d77185aaf402"
   },
   "outputs": [
    {
     "data": {
      "text/plain": [
       "<matplotlib.image.AxesImage at 0x7f7a94b024f0>"
      ]
     },
     "execution_count": 13,
     "metadata": {},
     "output_type": "execute_result"
    },
    {
     "data": {
      "image/png": "[encoded data removed]",
      "text/plain": [
       "<Figure size 288x288 with 1 Axes>"
      ]
     },
     "metadata": {
      "needs_background": "light"
     },
     "output_type": "display_data"
    }
   ],
   "source": [
    "# plot a sample test image\n",
    "plt.matshow(X_test[2])"
   ]
  },
  {
   "cell_type": "code",
   "execution_count": 14,
   "metadata": {
    "colab": {
     "base_uri": "https://localhost:8080/"
    },
    "id": "ny_azqfPB0IB",
    "outputId": "ce037514-08d4-4f86-ca30-ef0ae31c64dd"
   },
   "outputs": [
    {
     "data": {
      "text/plain": [
       "array([5.1459670e-04, 9.9388504e-01, 6.8904108e-01, 3.3134335e-01,\n",
       "       2.3481399e-02, 1.1159983e-01, 1.5969345e-01, 1.3456419e-01,\n",
       "       3.7809896e-01, 4.6752542e-02], dtype=float32)"
      ]
     },
     "execution_count": 14,
     "metadata": {},
     "output_type": "execute_result"
    }
   ],
   "source": [
    "# Make predictions\n",
    "y_predicted = model.predict(X_test_flattened)\n",
    "# Look at prediction for the sample test image\n",
    "y_predicted[2]"
   ]
  },
  {
   "cell_type": "code",
   "execution_count": 15,
   "metadata": {
    "colab": {
     "base_uri": "https://localhost:8080/"
    },
    "id": "Ev-t-O7rB3ol",
    "outputId": "293b7727-4392-4f1c-f12a-116bde35beec"
   },
   "outputs": [
    {
     "data": {
      "text/plain": [
       "1"
      ]
     },
     "execution_count": 15,
     "metadata": {},
     "output_type": "execute_result"
    }
   ],
   "source": [
    "# Transform the categorical outputs to labels for the sample test image\n",
    "np.argmax(y_predicted[2])"
   ]
  },
  {
   "cell_type": "code",
   "execution_count": 16,
   "metadata": {
    "id": "lrpqZqGIB6iB"
   },
   "outputs": [],
   "source": [
    "# Transform the categorical outputs to labels for all test images\n",
    "y_predicted_labels = [np.argmax(i) for i in y_predicted]"
   ]
  },
  {
   "cell_type": "code",
   "execution_count": 17,
   "metadata": {
    "colab": {
     "base_uri": "https://localhost:8080/"
    },
    "id": "xgHli2WEB-nJ",
    "outputId": "31ae9165-d350-4108-ac77-dbc1ffa59a3f"
   },
   "outputs": [
    {
     "data": {
      "text/plain": [
       "<tf.Tensor: shape=(10, 10), dtype=int32, numpy=\n",
       "array([[ 965,    0,    2,    1,    0,    4,    4,    3,    1,    0],\n",
       "       [   0, 1113,    3,    2,    0,    1,    4,    2,   10,    0],\n",
       "       [   7,    8,  924,   15,   10,    4,   11,   11,   40,    2],\n",
       "       [   5,    0,   20,  908,    0,   30,    2,   14,   24,    7],\n",
       "       [   2,    1,    4,    1,  917,    0,    9,    5,   10,   33],\n",
       "       [  11,    3,    4,   21,   11,  786,   11,    8,   30,    7],\n",
       "       [  14,    3,    7,    1,    7,   13,  907,    2,    4,    0],\n",
       "       [   1,    6,   22,    5,    5,    0,    0,  965,    1,   23],\n",
       "       [  10,    9,    6,   17,    9,   26,    9,   14,  869,    5],\n",
       "       [  11,    7,    1,    9,   28,    7,    0,   30,    7,  909]],\n",
       "      dtype=int32)>"
      ]
     },
     "execution_count": 17,
     "metadata": {},
     "output_type": "execute_result"
    }
   ],
   "source": [
    "# Look at confusion matrix\n",
    "cm = tf.math.confusion_matrix(labels=y_test,predictions=y_predicted_labels)\n",
    "cm"
   ]
  },
  {
   "cell_type": "code",
   "execution_count": 18,
   "metadata": {
    "colab": {
     "base_uri": "https://localhost:8080/",
     "height": 460
    },
    "id": "hwYJ8gqHCD36",
    "outputId": "455e8a22-caa7-45b7-a614-5f34fa43791f"
   },
   "outputs": [
    {
     "data": {
      "text/plain": [
       "Text(69.0, 0.5, 'Truth')"
      ]
     },
     "execution_count": 18,
     "metadata": {},
     "output_type": "execute_result"
    },
    {
     "data": {
      "image/png": "[encoded data removed]",
      "text/plain": [
       "<Figure size 720x504 with 2 Axes>"
      ]
     },
     "metadata": {
      "needs_background": "light"
     },
     "output_type": "display_data"
    }
   ],
   "source": [
    "import seaborn as sn\n",
    "plt.figure(figsize = (10,7))\n",
    "sn.heatmap(cm, annot=True, fmt='d')\n",
    "plt.xlabel('Predicted')\n",
    "plt.ylabel('Truth')"
   ]
  },
  {
   "cell_type": "markdown",
   "metadata": {},
   "source": [
    "# Multi-Layer Neural Network (Input + Hidden Layer + Output Layer)"
   ]
  },
  {
   "cell_type": "code",
   "execution_count": 19,
   "metadata": {
    "colab": {
     "base_uri": "https://localhost:8080/"
    },
    "id": "i0uE5UTdCIMQ",
    "outputId": "6d9d9a35-442c-479f-e7c5-a66eb02e6f3b"
   },
   "outputs": [
    {
     "name": "stdout",
     "output_type": "stream",
     "text": [
      "Epoch 1/5\n",
      "1875/1875 [==============================] - 2s 752us/step - loss: 0.4504 - accuracy: 0.8724\n",
      "Epoch 2/5\n",
      "1875/1875 [==============================] - 1s 653us/step - loss: 0.1376 - accuracy: 0.9600\n",
      "Epoch 3/5\n",
      "1875/1875 [==============================] - 1s 640us/step - loss: 0.0923 - accuracy: 0.9725\n",
      "Epoch 4/5\n",
      "1875/1875 [==============================] - 1s 625us/step - loss: 0.0648 - accuracy: 0.9810\n",
      "Epoch 5/5\n",
      "1875/1875 [==============================] - 1s 669us/step - loss: 0.0520 - accuracy: 0.9843\n"
     ]
    },
    {
     "data": {
      "text/plain": [
       "<tensorflow.python.keras.callbacks.History at 0x7f7a99d101c0>"
      ]
     },
     "execution_count": 19,
     "metadata": {},
     "output_type": "execute_result"
    }
   ],
   "source": [
    "# sequential model -->>> a neural network with a stacks of layers\n",
    "# model = keras.Sequential([layer1,layer2,layer3,...])\n",
    "model = keras.Sequential([\n",
    "    keras.layers.Dense(100, input_shape=(784,), activation='relu'),\n",
    "    keras.layers.Dense(10, activation='sigmoid')\n",
    "])\n",
    "# Compile the NN model (configure the model before training)\n",
    "model.compile(optimizer='adam',\n",
    "              loss='sparse_categorical_crossentropy',\n",
    "              metrics=['accuracy'])\n",
    "# Fit model to the data\n",
    "model.fit(X_train_flattened, y_train, epochs=5)"
   ]
  },
  {
   "cell_type": "code",
   "execution_count": 20,
   "metadata": {
    "colab": {
     "base_uri": "https://localhost:8080/"
    },
    "id": "InHDgYTsCS0G",
    "outputId": "74658259-47de-4fd7-c1d1-79046bbb2dbd"
   },
   "outputs": [
    {
     "name": "stdout",
     "output_type": "stream",
     "text": [
      "313/313 [==============================] - 0s 480us/step - loss: 0.0869 - accuracy: 0.9750\n"
     ]
    },
    {
     "data": {
      "text/plain": [
       "[0.0868963897228241, 0.9750000238418579]"
      ]
     },
     "execution_count": 20,
     "metadata": {},
     "output_type": "execute_result"
    }
   ],
   "source": [
    "# Evaluate the model\n",
    "model.evaluate(X_test_flattened,y_test)"
   ]
  },
  {
   "cell_type": "code",
   "execution_count": 21,
   "metadata": {
    "colab": {
     "base_uri": "https://localhost:8080/",
     "height": 460
    },
    "id": "TTLFrTUnCUBb",
    "outputId": "bcee8856-0cab-4567-e1f1-88a25c85b083"
   },
   "outputs": [
    {
     "data": {
      "text/plain": [
       "Text(69.0, 0.5, 'Truth')"
      ]
     },
     "execution_count": 21,
     "metadata": {},
     "output_type": "execute_result"
    },
    {
     "data": {
      "image/png": "[encoded data removed]",
      "text/plain": [
       "<Figure size 720x504 with 2 Axes>"
      ]
     },
     "metadata": {
      "needs_background": "light"
     },
     "output_type": "display_data"
    }
   ],
   "source": [
    "y_predicted = model.predict(X_test_flattened)\n",
    "y_predicted_labels = [np.argmax(i) for i in y_predicted]\n",
    "cm = tf.math.confusion_matrix(labels=y_test,predictions=y_predicted_labels)\n",
    "\n",
    "plt.figure(figsize = (10,7))\n",
    "sn.heatmap(cm, annot=True, fmt='d')\n",
    "plt.xlabel('Predicted')\n",
    "plt.ylabel('Truth')"
   ]
  },
  {
   "cell_type": "markdown",
   "metadata": {},
   "source": [
    "# Convolutional Neural Networks (Adding Convolutional Layers)"
   ]
  },
  {
   "cell_type": "code",
   "execution_count": 22,
   "metadata": {},
   "outputs": [
    {
     "name": "stdout",
     "output_type": "stream",
     "text": [
      "Epoch 1/3\n",
      "1875/1875 [==============================] - 48s 25ms/step - loss: 0.2505 - accuracy: 0.9258\n",
      "Epoch 2/3\n",
      "1875/1875 [==============================] - 50s 26ms/step - loss: 0.0498 - accuracy: 0.9851\n",
      "Epoch 3/3\n",
      "1875/1875 [==============================] - 51s 27ms/step - loss: 0.0292 - accuracy: 0.9906\n"
     ]
    },
    {
     "data": {
      "text/plain": [
       "<tensorflow.python.keras.callbacks.History at 0x7f7a99adeac0>"
      ]
     },
     "execution_count": 22,
     "metadata": {},
     "output_type": "execute_result"
    }
   ],
   "source": [
    "# sequential model -->>> a neural network with a stacks of layers\n",
    "# model = keras.Sequential([layer1,layer2,layer3,...]\n",
    "#reshape data to fit model\n",
    "X_train_deep = X_train.reshape(len(X_train),28,28,1)\n",
    "X_test_deep = X_test.reshape(len(X_test),28,28,1)\n",
    "layer1 = keras.layers.Conv2D(64, kernel_size=3, activation='relu', input_shape=(28,28,1))\n",
    "layer2 = keras.layers.Conv2D(32, kernel_size=3, activation='relu')\n",
    "layer3 = keras.layers.Flatten()\n",
    "out_layer = keras.layers.Dense(10, activation='softmax')\n",
    "\n",
    "deep_model = keras.Sequential([\n",
    "    layer1,\n",
    "    layer2,\n",
    "    layer3,\n",
    "    out_layer\n",
    "])\n",
    "# Compile the NN model (configure the model before training)\n",
    "deep_model.compile(optimizer='adam', loss='sparse_categorical_crossentropy', metrics=['accuracy'])\n",
    "# Fit model to the data\n",
    "deep_model.fit(X_train_deep, y_train, epochs=3)"
   ]
  },
  {
   "cell_type": "code",
   "execution_count": 23,
   "metadata": {},
   "outputs": [
    {
     "data": {
      "text/plain": [
       "Text(69.0, 0.5, 'Truth')"
      ]
     },
     "execution_count": 23,
     "metadata": {},
     "output_type": "execute_result"
    },
    {
     "data": {
      "image/png": "[encoded data removed]",
      "text/plain": [
       "<Figure size 720x504 with 2 Axes>"
      ]
     },
     "metadata": {
      "needs_background": "light"
     },
     "output_type": "display_data"
    }
   ],
   "source": [
    "y_predicted = deep_model.predict(X_test_deep)\n",
    "y_predicted_labels = [np.argmax(i) for i in y_predicted]\n",
    "cm = tf.math.confusion_matrix(labels=y_test,predictions=y_predicted_labels)\n",
    "\n",
    "plt.figure(figsize = (10,7))\n",
    "sn.heatmap(cm, annot=True, fmt='d')\n",
    "plt.xlabel('Predicted')\n",
    "plt.ylabel('Truth')"
   ]
  },
  {
   "cell_type": "code",
   "execution_count": null,
   "metadata": {},
   "outputs": [],
   "source": []
  }
 ],
 "metadata": {
  "colab": {
   "name": "Untitled1.ipynb",
   "provenance": []
  },
  "kernelspec": {
   "display_name": "Python 3 (ipykernel)",
   "language": "python",
   "name": "python3"
  },
  "language_info": {
   "codemirror_mode": {
    "name": "ipython",
    "version": 3
   },
   "file_extension": ".py",
   "mimetype": "text/x-python",
   "name": "python",
   "nbconvert_exporter": "python",
   "pygments_lexer": "ipython3",
   "version": "3.9.7"
  },
  "varInspector": {
   "cols": {
    "lenName": 16,
    "lenType": 16,
    "lenVar": 40
   },
   "kernels_config": {
    "python": {
     "delete_cmd_postfix": "",
     "delete_cmd_prefix": "del ",
     "library": "var_list.py",
     "varRefreshCmd": "print(var_dic_list())"
    },
    "r": {
     "delete_cmd_postfix": ") ",
     "delete_cmd_prefix": "rm(",
     "library": "var_list.r",
     "varRefreshCmd": "cat(var_dic_list()) "
    }
   },
   "types_to_exclude": [
    "module",
    "function",
    "builtin_function_or_method",
    "instance",
    "_Feature"
   ],
   "window_display": false
  }
 },
 "nbformat": 4,
 "nbformat_minor": 1
}
