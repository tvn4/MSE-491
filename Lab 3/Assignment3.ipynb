{
 "cells": [
  {
   "cell_type": "markdown",
   "metadata": {},
   "source": [
    "Author: Tony Nguyen\n",
    "Last Modified: Mar 28, 2022"
   ]
  },
  {
   "cell_type": "markdown",
   "metadata": {
    "id": "_v_6vNOSZfip"
   },
   "source": [
    "## Install tensorflow datasets"
   ]
  },
  {
   "cell_type": "code",
   "execution_count": 1,
   "metadata": {
    "id": "Vvh8CJ_7f_BW",
    "scrolled": true
   },
   "outputs": [
    {
     "name": "stdout",
     "output_type": "stream",
     "text": [
      "Note: you may need to restart the kernel to use updated packages.\n"
     ]
    },
    {
     "name": "stderr",
     "output_type": "stream",
     "text": [
      "WARNING: Ignoring invalid distribution -upyterthemes (c:\\programdata\\anaconda3\\lib\\site-packages)\n",
      "WARNING: Ignoring invalid distribution -upyterthemes (c:\\programdata\\anaconda3\\lib\\site-packages)\n",
      "WARNING: Ignoring invalid distribution -upyterthemes (c:\\programdata\\anaconda3\\lib\\site-packages)\n",
      "WARNING: Ignoring invalid distribution -upyterthemes (c:\\programdata\\anaconda3\\lib\\site-packages)\n",
      "WARNING: Ignoring invalid distribution -upyterthemes (c:\\programdata\\anaconda3\\lib\\site-packages)\n",
      "WARNING: Ignoring invalid distribution -upyterthemes (c:\\programdata\\anaconda3\\lib\\site-packages)\n"
     ]
    }
   ],
   "source": [
    "pip install -q tensorflow tensorflow-datasets"
   ]
  },
  {
   "cell_type": "markdown",
   "metadata": {
    "id": "wTMs24Y1gEEG"
   },
   "source": [
    "## Import Necessary Libraries"
   ]
  },
  {
   "cell_type": "code",
   "execution_count": 2,
   "metadata": {
    "id": "wTC_pP87gIkG"
   },
   "outputs": [],
   "source": [
    "import matplotlib.pyplot as plt\n",
    "import numpy as np\n",
    "\n",
    "import tensorflow as tf\n",
    "import tensorflow_datasets as tfds\n",
    "\n",
    "from tensorflow import keras"
   ]
  },
  {
   "cell_type": "markdown",
   "metadata": {
    "id": "KhJUhH-vge82"
   },
   "source": [
    "## View Available Tensorflow Datasets"
   ]
  },
  {
   "cell_type": "code",
   "execution_count": 3,
   "metadata": {
    "id": "hKqBKcLthj7A"
   },
   "outputs": [],
   "source": [
    "# tfds.list_builders()"
   ]
  },
  {
   "cell_type": "markdown",
   "metadata": {
    "id": "Mj-hCwENhrQ-"
   },
   "source": [
    "# 1. Getting Started"
   ]
  },
  {
   "cell_type": "code",
   "execution_count": 4,
   "metadata": {
    "id": "2-DCEGhnh_4m"
   },
   "outputs": [],
   "source": [
    "## 1. Choose Builder and Print out Data Information\n",
    "\n",
    "builder = tfds.builder(\n",
    "    'rock_paper_scissors',\n",
    "    try_gcs=False,\n",
    ")"
   ]
  },
  {
   "cell_type": "code",
   "execution_count": 5,
   "metadata": {
    "id": "NNfZOqrcioeH",
    "scrolled": true
   },
   "outputs": [
    {
     "name": "stdout",
     "output_type": "stream",
     "text": [
      "tfds.core.DatasetInfo(\n",
      "    name='rock_paper_scissors',\n",
      "    full_name='rock_paper_scissors/3.0.0',\n",
      "    description=\"\"\"\n",
      "    Images of hands playing rock, paper, scissor game.\n",
      "    \"\"\",\n",
      "    homepage='http://laurencemoroney.com/rock-paper-scissors-dataset',\n",
      "    data_path='C:\\\\Users\\\\TonyPC\\\\tensorflow_datasets\\\\rock_paper_scissors\\\\3.0.0',\n",
      "    download_size=219.53 MiB,\n",
      "    dataset_size=219.23 MiB,\n",
      "    features=FeaturesDict({\n",
      "        'image': Image(shape=(300, 300, 3), dtype=tf.uint8),\n",
      "        'label': ClassLabel(shape=(), dtype=tf.int64, num_classes=3),\n",
      "    }),\n",
      "    supervised_keys=('image', 'label'),\n",
      "    disable_shuffling=False,\n",
      "    splits={\n",
      "        'test': <SplitInfo num_examples=372, num_shards=1>,\n",
      "        'train': <SplitInfo num_examples=2520, num_shards=2>,\n",
      "    },\n",
      "    citation=\"\"\"@ONLINE {rps,\n",
      "    author = \"Laurence Moroney\",\n",
      "    title = \"Rock, Paper, Scissors Dataset\",\n",
      "    month = \"feb\",\n",
      "    year = \"2019\",\n",
      "    url = \"http://laurencemoroney.com/rock-paper-scissors-dataset\"\n",
      "    }\"\"\",\n",
      ")\n"
     ]
    },
    {
     "data": {
      "text/plain": [
       "0.8713692946058091"
      ]
     },
     "execution_count": 5,
     "metadata": {},
     "output_type": "execute_result"
    }
   ],
   "source": [
    "## 2. Load the Data and Split Train and Test Sets\n",
    "\n",
    "(ds_train, ds_test), ds_info = tfds.load(\n",
    "    'rock_paper_scissors',\n",
    "    split=['train', 'test'],\n",
    "    #batch_size = -1, #needed to return tuples; breaks tfds.show_examples() if true\n",
    "    shuffle_files=True,\n",
    "    as_supervised=True,\n",
    "    with_info=True,\n",
    ")\n",
    "\n",
    "print(ds_info)\n",
    "\n",
    "len(ds_train)/(len(ds_train)+len(ds_test))"
   ]
  },
  {
   "cell_type": "markdown",
   "metadata": {},
   "source": [
    "a. What is the image shape? What does each number mean?\n",
    "\n",
    "The shape is the number of dimensions an image has. In the case of this dataset, it has a shape of (300, 300, 3) which represent its height, width, and channel; a channel of 3 implies that the image is RGB.  "
   ]
  },
  {
   "cell_type": "markdown",
   "metadata": {},
   "source": [
    "b. What percentage of the data is considered as the training set?\n",
    "\n",
    "2520 out of 2892 or 87.1% of the images are considered to be in the training set"
   ]
  },
  {
   "cell_type": "code",
   "execution_count": 6,
   "metadata": {
    "id": "rrVXk6-ji7ez"
   },
   "outputs": [
    {
     "data": {
      "image/png": "[encoded data removed]",
      "text/plain": [
       "<Figure size 648x216 with 3 Axes>"
      ]
     },
     "metadata": {},
     "output_type": "display_data"
    }
   ],
   "source": [
    "# c. Show Three Example Images from test\n",
    "fig = tfds.show_examples(ds_test, ds_info, rows=1, cols=3)"
   ]
  },
  {
   "cell_type": "code",
   "execution_count": 42,
   "metadata": {},
   "outputs": [],
   "source": [
    "# function for all preprocessing steps\n",
    "def preprocessing(dataset):\n",
    "    ds = tfds.as_numpy(dataset)\n",
    "    imgs = ds[0]\n",
    "    imgs = imgs[...,0] #removes channel dimension\n",
    "    imgs = imgs[...,np.newaxis]/255 *# adds channel values as 1 and scales height and width \n",
    "    labels = ds[1]\n",
    "    return imgs, labels"
   ]
  },
  {
   "cell_type": "code",
   "execution_count": 44,
   "metadata": {
    "id": "KOahag-mjuof"
   },
   "outputs": [],
   "source": [
    "## 3. Convert tensorflow dataset format into numpy format, adjust the number of colour channels, &\n",
    "## 4. Scale image vales\n",
    "ds_train, ds_test = tfds.load(\n",
    "    'rock_paper_scissors',\n",
    "    split=['train','test'],\n",
    "    batch_size = -1, #needed to return tuples\n",
    "    shuffle_files=True,\n",
    "    as_supervised=True,\n",
    ")\n",
    "\n",
    "train_imgs, train_labels = preprocessing(ds_train)\n",
    "test_imgs, test_labels = preprocessing(ds_test)"
   ]
  },
  {
   "cell_type": "code",
   "execution_count": 90,
   "metadata": {},
   "outputs": [
    {
     "name": "stdout",
     "output_type": "stream",
     "text": [
      "(2520, 300, 300, 1)\n",
      "[[[1.        ]\n",
      "  [1.        ]\n",
      "  [1.        ]\n",
      "  ...\n",
      "  [1.        ]\n",
      "  [1.        ]\n",
      "  [1.        ]]\n",
      "\n",
      " [[1.        ]\n",
      "  [1.        ]\n",
      "  [1.        ]\n",
      "  ...\n",
      "  [1.        ]\n",
      "  [1.        ]\n",
      "  [1.        ]]\n",
      "\n",
      " [[1.        ]\n",
      "  [1.        ]\n",
      "  [1.        ]\n",
      "  ...\n",
      "  [1.        ]\n",
      "  [1.        ]\n",
      "  [1.        ]]\n",
      "\n",
      " ...\n",
      "\n",
      " [[1.        ]\n",
      "  [1.        ]\n",
      "  [1.        ]\n",
      "  ...\n",
      "  [0.99607843]\n",
      "  [0.99607843]\n",
      "  [0.99607843]]\n",
      "\n",
      " [[1.        ]\n",
      "  [1.        ]\n",
      "  [1.        ]\n",
      "  ...\n",
      "  [0.99607843]\n",
      "  [0.99215686]\n",
      "  [0.99607843]]\n",
      "\n",
      " [[1.        ]\n",
      "  [1.        ]\n",
      "  [1.        ]\n",
      "  ...\n",
      "  [0.99607843]\n",
      "  [0.99607843]\n",
      "  [0.99215686]]]\n"
     ]
    },
    {
     "data": {
      "text/plain": [
       "<matplotlib.image.AxesImage at 0x18127a2f100>"
      ]
     },
     "execution_count": 90,
     "metadata": {},
     "output_type": "execute_result"
    },
    {
     "data": {
      "image/png": "[encoded data removed]",
      "text/plain": [
       "<Figure size 288x288 with 1 Axes>"
      ]
     },
     "metadata": {
      "needs_background": "light"
     },
     "output_type": "display_data"
    }
   ],
   "source": [
    "print(train_imgs.shape)\n",
    "print(train_imgs[0])\n",
    "plt.matshow(train_imgs[300])"
   ]
  },
  {
   "cell_type": "markdown",
   "metadata": {
    "id": "hM_SDKpFBpGs"
   },
   "source": [
    "# 2. Basic Feedforward Neural Network Model "
   ]
  },
  {
   "cell_type": "code",
   "execution_count": 81,
   "metadata": {
    "id": "9pULotR1OPZX"
   },
   "outputs": [],
   "source": [
    "# 1. Flattening data\n",
    "train_imgs_flat = train_imgs.reshape(train_imgs.shape[0],\n",
    "                                     train_imgs.shape[1]*train_imgs.shape[2],\n",
    "                                     train_imgs.shape[3])\n",
    "test_imgs_flat = test_imgs.reshape(test_imgs.shape[0],\n",
    "                                     test_imgs.shape[1]*test_imgs.shape[2],\n",
    "                                     test_imgs.shape[3])"
   ]
  },
  {
   "cell_type": "markdown",
   "metadata": {},
   "source": [
    "'relu' Layers"
   ]
  },
  {
   "cell_type": "code",
   "execution_count": 201,
   "metadata": {},
   "outputs": [],
   "source": [
    "# 2. Model Creation\n",
    "\n",
    "relu_model = keras.Sequential([\n",
    "    keras.layers.Dense(100, input_shape=( train_imgs.shape[1]*train_imgs.shape[2],), activation='relu'),\n",
    "    keras.layers.Dense(100, activation='relu'),\n",
    "    keras.layers.Dense(3, activation='softmax')\n",
    "])"
   ]
  },
  {
   "cell_type": "code",
   "execution_count": 202,
   "metadata": {},
   "outputs": [],
   "source": [
    "# 3. Compiling model\n",
    "relu_model.compile(optimizer='adam', loss='sparse_categorical_crossentropy', metrics=['accuracy'])"
   ]
  },
  {
   "cell_type": "code",
   "execution_count": 203,
   "metadata": {
    "scrolled": true
   },
   "outputs": [
    {
     "name": "stdout",
     "output_type": "stream",
     "text": [
      "Epoch 1/10\n",
      "79/79 [==============================] - 3s 31ms/step - loss: 5.5915 - accuracy: 0.4194\n",
      "Epoch 2/10\n",
      "79/79 [==============================] - 2s 31ms/step - loss: 0.7472 - accuracy: 0.6944\n",
      "Epoch 3/10\n",
      "79/79 [==============================] - 2s 31ms/step - loss: 0.5664 - accuracy: 0.7821\n",
      "Epoch 4/10\n",
      "79/79 [==============================] - 2s 31ms/step - loss: 0.5500 - accuracy: 0.7869\n",
      "Epoch 5/10\n",
      "79/79 [==============================] - 2s 31ms/step - loss: 0.3083 - accuracy: 0.8845\n",
      "Epoch 6/10\n",
      "79/79 [==============================] - 3s 32ms/step - loss: 0.2997 - accuracy: 0.8885\n",
      "Epoch 7/10\n",
      "79/79 [==============================] - 2s 31ms/step - loss: 0.1832 - accuracy: 0.9413\n",
      "Epoch 8/10\n",
      "79/79 [==============================] - 3s 32ms/step - loss: 0.1482 - accuracy: 0.9536\n",
      "Epoch 9/10\n",
      "79/79 [==============================] - 2s 31ms/step - loss: 0.3784 - accuracy: 0.8794\n",
      "Epoch 10/10\n",
      "79/79 [==============================] - 3s 32ms/step - loss: 0.1143 - accuracy: 0.9671\n"
     ]
    }
   ],
   "source": [
    "# 4. Training model\n",
    "relu_train = relu_model.fit(train_imgs_flat, train_labels, epochs=10)"
   ]
  },
  {
   "cell_type": "code",
   "execution_count": 209,
   "metadata": {},
   "outputs": [
    {
     "name": "stdout",
     "output_type": "stream",
     "text": [
      "The accuracy of the last epoch (10) is: 96.706349 %\n"
     ]
    }
   ],
   "source": [
    "from keras.callbacks import History as history\n",
    "accuracy_train = relu_train.history['accuracy']\n",
    "\n",
    "loss_train = relu_train.history['accuracy']\n",
    "print('The accuracy of the last epoch (10) is: %f %%' %(accuracy_train[9]*100))"
   ]
  },
  {
   "cell_type": "code",
   "execution_count": 211,
   "metadata": {},
   "outputs": [
    {
     "name": "stdout",
     "output_type": "stream",
     "text": [
      "12/12 [==============================] - 0s 8ms/step - loss: 2.2749 - accuracy: 0.4839\n"
     ]
    }
   ],
   "source": [
    "#5. Model Evaluation\n",
    "relu_test = relu_model.evaluate(test_imgs_flat, test_labels)"
   ]
  },
  {
   "cell_type": "code",
   "execution_count": 210,
   "metadata": {},
   "outputs": [
    {
     "data": {
      "image/png": "[encoded data removed]",
      "text/plain": [
       "<Figure size 432x288 with 1 Axes>"
      ]
     },
     "metadata": {
      "needs_background": "light"
     },
     "output_type": "display_data"
    }
   ],
   "source": [
    "epochs = range(1,11)\n",
    "plt.plot(epochs, accuracy_train, label='Training Accuracy')\n",
    "plt.title('Training Accuracy per Epoch of ReLU Model')\n",
    "plt.xlabel('Epochs')\n",
    "plt.ylabel('Accuracy')\n",
    "plt.show()"
   ]
  },
  {
   "cell_type": "markdown",
   "metadata": {
    "id": "I-2LyGOYm99Z"
   },
   "source": [
    "'tanh' Layers"
   ]
  },
  {
   "cell_type": "code",
   "execution_count": 212,
   "metadata": {
    "id": "AXEVgQq8m8uZ",
    "scrolled": true
   },
   "outputs": [
    {
     "name": "stdout",
     "output_type": "stream",
     "text": [
      "Epoch 1/10\n",
      "79/79 [==============================] - 3s 34ms/step - loss: 1.3538 - accuracy: 0.3306\n",
      "Epoch 2/10\n",
      "79/79 [==============================] - 3s 32ms/step - loss: 1.1139 - accuracy: 0.3369\n",
      "Epoch 3/10\n",
      "79/79 [==============================] - 3s 32ms/step - loss: 1.1076 - accuracy: 0.3333\n",
      "Epoch 4/10\n",
      "79/79 [==============================] - 3s 33ms/step - loss: 1.1069 - accuracy: 0.3341\n",
      "Epoch 5/10\n",
      "79/79 [==============================] - 3s 32ms/step - loss: 1.1136 - accuracy: 0.3246\n",
      "Epoch 6/10\n",
      "79/79 [==============================] - 2s 31ms/step - loss: 1.1052 - accuracy: 0.3385\n",
      "Epoch 7/10\n",
      "79/79 [==============================] - 3s 33ms/step - loss: 1.1065 - accuracy: 0.3226\n",
      "Epoch 8/10\n",
      "79/79 [==============================] - 3s 33ms/step - loss: 1.1069 - accuracy: 0.3353\n",
      "Epoch 9/10\n",
      "79/79 [==============================] - 3s 33ms/step - loss: 1.1044 - accuracy: 0.3270\n",
      "Epoch 10/10\n",
      "79/79 [==============================] - 3s 32ms/step - loss: 1.1084 - accuracy: 0.3202\n",
      "12/12 [==============================] - 0s 8ms/step - loss: 1.1032 - accuracy: 0.3333\n"
     ]
    }
   ],
   "source": [
    "## 6. 'tanh' Layers\n",
    "# Model Creation\n",
    "tanh_model = keras.Sequential([\n",
    "    keras.layers.Dense(100, input_shape=( train_imgs.shape[1]*train_imgs.shape[2],), activation='tanh'),\n",
    "    keras.layers.Dense(100, activation='tanh'),\n",
    "    keras.layers.Dense(3, activation='softmax')\n",
    "])\n",
    "\n",
    "# Compiling model\n",
    "tanh_model.compile(optimizer='adam', loss='sparse_categorical_crossentropy', metrics=['accuracy'])\n",
    "\n",
    "# Training model\n",
    "tanh_model.fit(train_imgs_flat, train_labels, epochs=10)\n",
    "\n",
    "# Model Evaluation\n",
    "tanh_test = tanh_model.evaluate(test_imgs_flat, test_labels)"
   ]
  },
  {
   "cell_type": "code",
   "execution_count": 215,
   "metadata": {},
   "outputs": [
    {
     "name": "stdout",
     "output_type": "stream",
     "text": [
      "[[2.27488089 0.48387095]\n",
      " [1.10319281 0.33333334]]\n"
     ]
    }
   ],
   "source": [
    "print(metrics)"
   ]
  },
  {
   "cell_type": "code",
   "execution_count": 214,
   "metadata": {},
   "outputs": [
    {
     "data": {
      "image/png": "[encoded data removed]",
      "text/plain": [
       "<Figure size 432x288 with 1 Axes>"
      ]
     },
     "metadata": {
      "needs_background": "light"
     },
     "output_type": "display_data"
    },
    {
     "data": {
      "image/png": "[encoded data removed]",
      "text/plain": [
       "<Figure size 432x288 with 1 Axes>"
      ]
     },
     "metadata": {
      "needs_background": "light"
     },
     "output_type": "display_data"
    }
   ],
   "source": [
    "# Using bar charts, show how the evaluation results (i.e. loss and accuracy) change, Discuss why\n",
    "columns = ['ReLU','tanh']\n",
    "metrics = np.vstack((relu_test,tanh_test))\n",
    "\n",
    "plt.bar(columns, metrics[:,0])\n",
    "plt.title('Testing Loss of Each Model')\n",
    "plt.xlabel('Model')\n",
    "plt.ylabel('Loss')\n",
    "plt.show()\n",
    "\n",
    "plt.bar(columns, metrics[:,1])\n",
    "plt.title('Testing Accuracy of Each Model')\n",
    "plt.xlabel('Model')\n",
    "plt.ylabel('Accuracy')\n",
    "plt.show()\n"
   ]
  },
  {
   "cell_type": "markdown",
   "metadata": {},
   "source": [
    "7. Is there any advantage for using “softmax” as the activation function for the output layer? "
   ]
  },
  {
   "cell_type": "markdown",
   "metadata": {
    "id": "twfV36ChP4Ce"
   },
   "source": [
    "# 3. CNNs"
   ]
  },
  {
   "cell_type": "markdown",
   "metadata": {},
   "source": [
    "A. First CNN"
   ]
  },
  {
   "cell_type": "code",
   "execution_count": 143,
   "metadata": {
    "id": "vcuC8NuAQPew",
    "scrolled": true
   },
   "outputs": [
    {
     "name": "stdout",
     "output_type": "stream",
     "text": [
      "Epoch 1/10\n",
      "79/79 [==============================] - 314s 4s/step - loss: 3.4156 - accuracy: 0.6060\n",
      "Epoch 2/10\n",
      "79/79 [==============================] - 323s 4s/step - loss: 0.2156 - accuracy: 0.9540\n",
      "Epoch 3/10\n",
      "79/79 [==============================] - 308s 4s/step - loss: 0.0480 - accuracy: 0.9913\n",
      "Epoch 4/10\n",
      "79/79 [==============================] - 302s 4s/step - loss: 0.0162 - accuracy: 0.9984\n",
      "Epoch 5/10\n",
      "79/79 [==============================] - 323s 4s/step - loss: 0.0049 - accuracy: 0.9992\n",
      "Epoch 6/10\n",
      "79/79 [==============================] - 320s 4s/step - loss: 0.0028 - accuracy: 1.0000\n",
      "Epoch 7/10\n",
      "79/79 [==============================] - 330s 4s/step - loss: 0.0019 - accuracy: 1.0000\n",
      "Epoch 8/10\n",
      "79/79 [==============================] - 319s 4s/step - loss: 0.0011 - accuracy: 1.0000\n",
      "Epoch 9/10\n",
      "79/79 [==============================] - 328s 4s/step - loss: 7.0980e-04 - accuracy: 1.0000\n",
      "Epoch 10/10\n",
      "79/79 [==============================] - 317s 4s/step - loss: 6.2292e-04 - accuracy: 1.0000\n",
      "12/12 [==============================] - 7s 538ms/step - loss: 2.0908 - accuracy: 0.5511\n"
     ]
    },
    {
     "data": {
      "text/plain": [
       "[2.090820550918579, 0.551075279712677]"
      ]
     },
     "execution_count": 143,
     "metadata": {},
     "output_type": "execute_result"
    }
   ],
   "source": [
    "## Testing different filter values to obtain model that has best trade-off between accuracy and speed\n",
    "# filter values of 64 and 32 yield 55% accuracy at ~1 hour of processing time\n",
    "\n",
    "cnn1 = keras.Sequential([\n",
    "    keras.layers.Conv2D(64, kernel_size=3, activation='relu', input_shape=(train_imgs.shape[1],\n",
    "                                                                           train_imgs.shape[2],\n",
    "                                                                           train_imgs.shape[3])),\n",
    "    keras.layers.Conv2D(32, kernel_size=3, activation='relu'),\n",
    "    keras.layers.Flatten(),\n",
    "    keras.layers.Dense(3, activation='softmax')\n",
    "])\n",
    "\n",
    "# Compiling model\n",
    "cnn1.compile(optimizer='adam', loss='sparse_categorical_crossentropy', metrics=['accuracy'])\n",
    "\n",
    "# Training model\n",
    "cnn1.fit(train_imgs, train_labels, epochs=10)\n",
    "\n",
    "# Model Evaluation\n",
    "cnn1.evaluate(test_imgs, test_labels)"
   ]
  },
  {
   "cell_type": "code",
   "execution_count": 145,
   "metadata": {},
   "outputs": [
    {
     "name": "stdout",
     "output_type": "stream",
     "text": [
      "Epoch 1/10\n",
      "79/79 [==============================] - 137s 2s/step - loss: 3.5177 - accuracy: 0.6389\n",
      "Epoch 2/10\n",
      "79/79 [==============================] - 126s 2s/step - loss: 0.2522 - accuracy: 0.9472\n",
      "Epoch 3/10\n",
      "79/79 [==============================] - 111s 1s/step - loss: 0.0558 - accuracy: 0.9929\n",
      "Epoch 4/10\n",
      "79/79 [==============================] - 111s 1s/step - loss: 0.0128 - accuracy: 0.9992\n",
      "Epoch 5/10\n",
      "79/79 [==============================] - 114s 1s/step - loss: 0.0075 - accuracy: 1.0000\n",
      "Epoch 6/10\n",
      "79/79 [==============================] - 119s 2s/step - loss: 0.0037 - accuracy: 1.0000\n",
      "Epoch 7/10\n",
      "79/79 [==============================] - 123s 2s/step - loss: 0.0019 - accuracy: 1.0000\n",
      "Epoch 8/10\n",
      "79/79 [==============================] - 123s 2s/step - loss: 0.0011 - accuracy: 1.0000\n",
      "Epoch 9/10\n",
      "79/79 [==============================] - 125s 2s/step - loss: 7.9346e-04 - accuracy: 1.0000\n",
      "Epoch 10/10\n",
      "79/79 [==============================] - 118s 1s/step - loss: 6.7358e-04 - accuracy: 1.0000\n",
      "12/12 [==============================] - 3s 193ms/step - loss: 1.6611 - accuracy: 0.5672\n"
     ]
    },
    {
     "data": {
      "text/plain": [
       "[1.6610660552978516, 0.5672042965888977]"
      ]
     },
     "execution_count": 145,
     "metadata": {},
     "output_type": "execute_result"
    }
   ],
   "source": [
    "# filter values of 32 and 16 yield 57% accuracy at ~20 mins of processing time\n",
    "\n",
    "cnn1_1 = keras.Sequential([\n",
    "    keras.layers.Conv2D(32, kernel_size=3, activation='relu', input_shape=(train_imgs.shape[1],\n",
    "                                                                           train_imgs.shape[2],\n",
    "                                                                           train_imgs.shape[3])),\n",
    "    keras.layers.Conv2D(16, kernel_size=3, activation='relu'),\n",
    "    keras.layers.Flatten(),\n",
    "    keras.layers.Dense(3, activation='softmax')\n",
    "])\n",
    "\n",
    "# Compiling model\n",
    "cnn1_1.compile(optimizer='adam', loss='sparse_categorical_crossentropy', metrics=['accuracy'])\n",
    "\n",
    "# Training model\n",
    "cnn1_1.fit(train_imgs, train_labels, epochs=10)\n",
    "\n",
    "# Model Evaluation\n",
    "cnn1_1.evaluate(test_imgs, test_labels)"
   ]
  },
  {
   "cell_type": "code",
   "execution_count": 146,
   "metadata": {},
   "outputs": [
    {
     "name": "stdout",
     "output_type": "stream",
     "text": [
      "Epoch 1/10\n",
      "79/79 [==============================] - 70s 889ms/step - loss: 3.9581 - accuracy: 0.7333\n",
      "Epoch 2/10\n",
      "79/79 [==============================] - 75s 945ms/step - loss: 0.2008 - accuracy: 0.9802\n",
      "Epoch 3/10\n",
      "79/79 [==============================] - 72s 917ms/step - loss: 0.0453 - accuracy: 0.9929\n",
      "Epoch 4/10\n",
      "79/79 [==============================] - 73s 922ms/step - loss: 0.0168 - accuracy: 0.9988\n",
      "Epoch 5/10\n",
      "79/79 [==============================] - 61s 767ms/step - loss: 0.0071 - accuracy: 0.9996\n",
      "Epoch 6/10\n",
      "79/79 [==============================] - 61s 767ms/step - loss: 0.0047 - accuracy: 1.0000\n",
      "Epoch 7/10\n",
      "79/79 [==============================] - 70s 884ms/step - loss: 0.0033 - accuracy: 1.0000\n",
      "Epoch 8/10\n",
      "79/79 [==============================] - 68s 862ms/step - loss: 0.0027 - accuracy: 1.0000\n",
      "Epoch 9/10\n",
      "79/79 [==============================] - 66s 829ms/step - loss: 0.0019 - accuracy: 1.0000\n",
      "Epoch 10/10\n",
      "79/79 [==============================] - 63s 803ms/step - loss: 0.0015 - accuracy: 1.0000\n",
      "12/12 [==============================] - 2s 121ms/step - loss: 1.0252 - accuracy: 0.6774\n"
     ]
    },
    {
     "data": {
      "text/plain": [
       "[1.0251744985580444, 0.6774193644523621]"
      ]
     },
     "execution_count": 146,
     "metadata": {},
     "output_type": "execute_result"
    }
   ],
   "source": [
    "# filter values of 16 and 8 yield 68% accuracy at ~12 mins of processing time\n",
    "cnn1_2 = keras.Sequential([\n",
    "    keras.layers.Conv2D(16, kernel_size=3, activation='relu', input_shape=(train_imgs.shape[1],\n",
    "                                                                           train_imgs.shape[2],\n",
    "                                                                           train_imgs.shape[3])),\n",
    "    keras.layers.Conv2D(8, kernel_size=3, activation='relu'),\n",
    "    keras.layers.Flatten(),\n",
    "    keras.layers.Dense(3, activation='softmax')\n",
    "])\n",
    "\n",
    "# Compiling model\n",
    "cnn1_2.compile(optimizer='adam', loss='sparse_categorical_crossentropy', metrics=['accuracy'])\n",
    "\n",
    "# Training model\n",
    "cnn1_2.fit(train_imgs, train_labels, epochs=10)\n",
    "\n",
    "# Model Evaluation\n",
    "cnn1_2.evaluate(test_imgs, test_labels)"
   ]
  },
  {
   "cell_type": "markdown",
   "metadata": {
    "id": "tc11bVgbnXHY"
   },
   "source": [
    "## B. Second CNN"
   ]
  },
  {
   "cell_type": "code",
   "execution_count": 187,
   "metadata": {
    "scrolled": true
   },
   "outputs": [
    {
     "name": "stdout",
     "output_type": "stream",
     "text": [
      "Epoch 1/10\n",
      "79/79 [==============================] - 15s 180ms/step - loss: 0.9774 - accuracy: 0.6929\n",
      "Epoch 2/10\n",
      "79/79 [==============================] - 14s 182ms/step - loss: 0.1948 - accuracy: 0.9611\n",
      "Epoch 3/10\n",
      "79/79 [==============================] - 15s 184ms/step - loss: 0.0592 - accuracy: 0.9901\n",
      "Epoch 4/10\n",
      "79/79 [==============================] - 15s 186ms/step - loss: 0.0231 - accuracy: 0.9960\n",
      "Epoch 5/10\n",
      "79/79 [==============================] - 15s 187ms/step - loss: 0.0145 - accuracy: 0.9988\n",
      "Epoch 6/10\n",
      "79/79 [==============================] - 14s 183ms/step - loss: 0.0079 - accuracy: 0.9988\n",
      "Epoch 7/10\n",
      "79/79 [==============================] - 14s 183ms/step - loss: 0.0037 - accuracy: 1.0000\n",
      "Epoch 8/10\n",
      "79/79 [==============================] - 15s 186ms/step - loss: 0.0023 - accuracy: 1.0000\n",
      "Epoch 9/10\n",
      "79/79 [==============================] - 15s 185ms/step - loss: 0.0018 - accuracy: 1.0000\n",
      "Epoch 10/10\n",
      "79/79 [==============================] - 15s 185ms/step - loss: 0.0015 - accuracy: 1.0000\n",
      "12/12 [==============================] - 1s 55ms/step - loss: 1.0414 - accuracy: 0.6855\n"
     ]
    },
    {
     "data": {
      "text/plain": [
       "[1.0414376258850098, 0.6854838728904724]"
      ]
     },
     "execution_count": 187,
     "metadata": {},
     "output_type": "execute_result"
    }
   ],
   "source": [
    "#Stride = 3\n",
    "cnn2_s3 = keras.Sequential([\n",
    "    keras.layers.AveragePooling2D(pool_size=6, strides=3, padding=\"valid\"),\n",
    "    keras.layers.Conv2D(32, kernel_size=3, activation='relu'),\n",
    "    keras.layers.Conv2D(16, kernel_size=3, activation='relu'),\n",
    "    keras.layers.Flatten(),\n",
    "    keras.layers.Dense(3, activation='softmax'),\n",
    "])\n",
    "                        \n",
    "# Compiling model\n",
    "cnn2_s3.compile(optimizer='adam', loss='sparse_categorical_crossentropy', metrics=['accuracy'])\n",
    "\n",
    "# Training model\n",
    "cnn2_s3.fit(train_imgs, train_labels, epochs=10)\n",
    "\n",
    "# Model Evaluation\n",
    "cnn2_s3.evaluate(test_imgs, test_labels)"
   ]
  },
  {
   "cell_type": "markdown",
   "metadata": {},
   "source": [
    "Stride 2"
   ]
  },
  {
   "cell_type": "code",
   "execution_count": 190,
   "metadata": {},
   "outputs": [
    {
     "name": "stdout",
     "output_type": "stream",
     "text": [
      "Epoch 1/10\n",
      "79/79 [==============================] - 34s 423ms/step - loss: 1.5870 - accuracy: 0.3929\n",
      "Epoch 2/10\n",
      "79/79 [==============================] - 33s 420ms/step - loss: 1.0987 - accuracy: 0.3333\n",
      "Epoch 3/10\n",
      "79/79 [==============================] - 34s 429ms/step - loss: 1.0987 - accuracy: 0.3333\n",
      "Epoch 4/10\n",
      "79/79 [==============================] - 34s 433ms/step - loss: 1.0987 - accuracy: 0.3254\n",
      "Epoch 5/10\n",
      "79/79 [==============================] - 34s 435ms/step - loss: 1.0987 - accuracy: 0.3274\n",
      "Epoch 6/10\n",
      "79/79 [==============================] - 32s 407ms/step - loss: 1.0987 - accuracy: 0.3306\n",
      "Epoch 7/10\n",
      "79/79 [==============================] - 32s 404ms/step - loss: 1.0987 - accuracy: 0.3246\n",
      "Epoch 8/10\n",
      "79/79 [==============================] - 32s 405ms/step - loss: 1.0998 - accuracy: 0.4119\n",
      "Epoch 9/10\n",
      "79/79 [==============================] - 32s 406ms/step - loss: 1.0957 - accuracy: 0.3889\n",
      "Epoch 10/10\n",
      "79/79 [==============================] - 32s 409ms/step - loss: 1.0987 - accuracy: 0.3333\n",
      "12/12 [==============================] - 1s 105ms/step - loss: 1.0986 - accuracy: 0.3333\n"
     ]
    },
    {
     "data": {
      "text/plain": [
       "[1.0986250638961792, 0.3333333432674408]"
      ]
     },
     "execution_count": 190,
     "metadata": {},
     "output_type": "execute_result"
    }
   ],
   "source": [
    "#Stride = 2\n",
    "cnn2_s2 = keras.Sequential([\n",
    "    keras.layers.AveragePooling2D(pool_size=6, strides=2, padding=\"valid\"),\n",
    "    keras.layers.Conv2D(32, kernel_size=3, activation='relu', input_shape=(train_imgs.shape[1],\n",
    "                                                                           train_imgs.shape[2],\n",
    "                                                                           train_imgs.shape[3])),\n",
    "    keras.layers.Conv2D(16, kernel_size=3, activation='relu'),\n",
    "    keras.layers.Flatten(),\n",
    "    keras.layers.Dense(3, activation='softmax'),\n",
    "])\n",
    "                        \n",
    "# Compiling model\n",
    "cnn2_s2.compile(optimizer='adam', loss='sparse_categorical_crossentropy', metrics=['accuracy'])\n",
    "\n",
    "# Training model\n",
    "cnn2_s2.fit(train_imgs, train_labels, epochs=10)\n",
    "\n",
    "# Model Evaluation\n",
    "cnn2_s2.evaluate(test_imgs, test_labels)"
   ]
  },
  {
   "cell_type": "markdown",
   "metadata": {},
   "source": [
    "Stride 6"
   ]
  },
  {
   "cell_type": "code",
   "execution_count": 193,
   "metadata": {
    "scrolled": true
   },
   "outputs": [
    {
     "name": "stdout",
     "output_type": "stream",
     "text": [
      "Epoch 1/10\n",
      "79/79 [==============================] - 5s 54ms/step - loss: 0.8863 - accuracy: 0.6476\n",
      "Epoch 2/10\n",
      "79/79 [==============================] - 4s 55ms/step - loss: 0.2187 - accuracy: 0.9444\n",
      "Epoch 3/10\n",
      "79/79 [==============================] - 4s 55ms/step - loss: 0.0633 - accuracy: 0.9881\n",
      "Epoch 4/10\n",
      "79/79 [==============================] - 4s 55ms/step - loss: 0.0240 - accuracy: 0.9956\n",
      "Epoch 5/10\n",
      "79/79 [==============================] - 4s 55ms/step - loss: 0.0118 - accuracy: 0.9992\n",
      "Epoch 6/10\n",
      "79/79 [==============================] - 4s 55ms/step - loss: 0.0073 - accuracy: 1.0000\n",
      "Epoch 7/10\n",
      "79/79 [==============================] - 4s 55ms/step - loss: 0.0046 - accuracy: 1.0000\n",
      "Epoch 8/10\n",
      "79/79 [==============================] - 4s 55ms/step - loss: 0.0029 - accuracy: 1.0000\n",
      "Epoch 9/10\n",
      "79/79 [==============================] - 4s 55ms/step - loss: 0.0023 - accuracy: 1.0000\n",
      "Epoch 10/10\n",
      "79/79 [==============================] - 4s 55ms/step - loss: 0.0018 - accuracy: 1.0000\n",
      "12/12 [==============================] - 0s 22ms/step - loss: 1.0747 - accuracy: 0.6747\n"
     ]
    },
    {
     "data": {
      "text/plain": [
       "[1.0746949911117554, 0.6747311949729919]"
      ]
     },
     "execution_count": 193,
     "metadata": {},
     "output_type": "execute_result"
    }
   ],
   "source": [
    "#Stride = 6\n",
    "cnn2_s6 = keras.Sequential([\n",
    "    keras.layers.AveragePooling2D(pool_size=6, strides=6, padding=\"valid\"),\n",
    "    keras.layers.Conv2D(32, kernel_size=3, activation='relu', input_shape=(train_imgs.shape[1],\n",
    "                                                                           train_imgs.shape[2],\n",
    "                                                                           train_imgs.shape[3])),\n",
    "    keras.layers.Conv2D(16, kernel_size=3, activation='relu'),\n",
    "    keras.layers.Flatten(),\n",
    "    keras.layers.Dense(3, activation='softmax'),\n",
    "])\n",
    "                        \n",
    "# Compiling model\n",
    "cnn2_s6.compile(optimizer='adam', loss='sparse_categorical_crossentropy', metrics=['accuracy'])\n",
    "\n",
    "# Training model\n",
    "cnn2_s6.fit(train_imgs, train_labels, epochs=10)\n",
    "\n",
    "# Model Evaluation\n",
    "cnn2_s6.evaluate(test_imgs, test_labels)"
   ]
  },
  {
   "cell_type": "code",
   "execution_count": 218,
   "metadata": {},
   "outputs": [
    {
     "name": "stdout",
     "output_type": "stream",
     "text": [
      "12/12 [==============================] - 1s 83ms/step - loss: 0.9193 - accuracy: 0.6909\n",
      "12/12 [==============================] - 1s 108ms/step - loss: 1.0986 - accuracy: 0.3333\n",
      "12/12 [==============================] - 0s 23ms/step - loss: 1.0747 - accuracy: 0.6747\n"
     ]
    },
    {
     "data": {
      "image/png": "[encoded data removed]",
      "text/plain": [
       "<Figure size 432x288 with 1 Axes>"
      ]
     },
     "metadata": {
      "needs_background": "light"
     },
     "output_type": "display_data"
    },
    {
     "data": {
      "image/png": "[encoded data removed]",
      "text/plain": [
       "<Figure size 432x288 with 1 Axes>"
      ]
     },
     "metadata": {
      "needs_background": "light"
     },
     "output_type": "display_data"
    }
   ],
   "source": [
    "s3_metrics = cnn2_s3.evaluate(test_imgs, test_labels)\n",
    "s2_metrics = cnn2_s2.evaluate(test_imgs, test_labels)\n",
    "s6_metrics = cnn2_s6.evaluate(test_imgs, test_labels)\n",
    "\n",
    "cnn_columns = ['3','2','6']\n",
    "cnn_metrics = np.vstack((s3_metrics,s2_metrics,s6_metrics))\n",
    "\n",
    "plt.bar(cnn_columns, cnn_metrics[:,1])\n",
    "plt.title('Accuracy of CNN Models with Differing Strides')\n",
    "plt.xlabel('Stride Size')\n",
    "plt.ylabel('Accuracy')\n",
    "plt.show()\n",
    "\n",
    "plt.bar(cnn_columns, cnn_metrics[:,0])\n",
    "plt.title('Loss of CNN Models with Differing Strides')\n",
    "plt.xlabel('Stride Size')\n",
    "plt.ylabel('Loss')\n",
    "plt.show()"
   ]
  },
  {
   "cell_type": "markdown",
   "metadata": {
    "id": "3J6Q2DJ6hX7c"
   },
   "source": [
    "## C. Third CNN"
   ]
  },
  {
   "cell_type": "code",
   "execution_count": 194,
   "metadata": {
    "id": "yDAtTVtahbIj"
   },
   "outputs": [
    {
     "name": "stdout",
     "output_type": "stream",
     "text": [
      "Epoch 1/10\n",
      "79/79 [==============================] - 14s 171ms/step - loss: 0.6277 - accuracy: 0.7738\n",
      "Epoch 2/10\n",
      "79/79 [==============================] - 14s 174ms/step - loss: 0.1160 - accuracy: 0.9806\n",
      "Epoch 3/10\n",
      "79/79 [==============================] - 13s 170ms/step - loss: 0.0354 - accuracy: 0.9929\n",
      "Epoch 4/10\n",
      "79/79 [==============================] - 13s 169ms/step - loss: 0.0163 - accuracy: 0.9964\n",
      "Epoch 5/10\n",
      "79/79 [==============================] - 14s 174ms/step - loss: 0.0070 - accuracy: 1.0000\n",
      "Epoch 6/10\n",
      "79/79 [==============================] - 14s 176ms/step - loss: 0.0050 - accuracy: 1.0000\n",
      "Epoch 7/10\n",
      "79/79 [==============================] - 14s 178ms/step - loss: 0.0031 - accuracy: 1.0000\n",
      "Epoch 8/10\n",
      "79/79 [==============================] - 14s 177ms/step - loss: 0.0023 - accuracy: 1.0000\n",
      "Epoch 9/10\n",
      "79/79 [==============================] - 14s 177ms/step - loss: 0.0017 - accuracy: 1.0000\n",
      "Epoch 10/10\n",
      "79/79 [==============================] - 14s 178ms/step - loss: 0.0014 - accuracy: 1.0000\n",
      "12/12 [==============================] - 1s 53ms/step - loss: 0.9066 - accuracy: 0.7097\n"
     ]
    },
    {
     "data": {
      "text/plain": [
       "[0.9066367149353027, 0.7096773982048035]"
      ]
     },
     "execution_count": 194,
     "metadata": {},
     "output_type": "execute_result"
    }
   ],
   "source": [
    "cnn3 = keras.Sequential([\n",
    "    keras.layers.AveragePooling2D(pool_size=6, strides=3, padding=\"valid\"),\n",
    "    keras.layers.Conv2D(32, kernel_size=3, activation='relu', input_shape=(train_imgs.shape[1],\n",
    "                                                                           train_imgs.shape[2],\n",
    "                                                                           train_imgs.shape[3])),\n",
    "    keras.layers.Conv2D(16, kernel_size=3, activation='relu'),\n",
    "    keras.layers.MaxPool2D(pool_size=(2, 2),strides=None, padding='valid'),\n",
    "    keras.layers.Flatten(),\n",
    "    keras.layers.Dense(3, activation='softmax'),\n",
    "])\n",
    "\n",
    "# Compiling model\n",
    "cnn3.compile(optimizer='adam', loss='sparse_categorical_crossentropy', metrics=['accuracy'])\n",
    "\n",
    "# Training model\n",
    "cnn3.fit(train_imgs, train_labels, epochs=10)\n",
    "\n",
    "# Model Evaluation\n",
    "cnn3.evaluate(test_imgs, test_labels)"
   ]
  },
  {
   "cell_type": "markdown",
   "metadata": {
    "id": "9I4aw-Y6neWH"
   },
   "source": [
    "## D. Forth CNN"
   ]
  },
  {
   "cell_type": "code",
   "execution_count": 196,
   "metadata": {
    "id": "yjTdABs_ibEO"
   },
   "outputs": [
    {
     "name": "stdout",
     "output_type": "stream",
     "text": [
      "Epoch 1/10\n",
      "79/79 [==============================] - 34s 414ms/step - loss: 0.6273 - accuracy: 0.7587\n",
      "Epoch 2/10\n",
      "79/79 [==============================] - 32s 404ms/step - loss: 0.0906 - accuracy: 0.9825\n",
      "Epoch 3/10\n",
      "79/79 [==============================] - 32s 410ms/step - loss: 0.0219 - accuracy: 0.9960\n",
      "Epoch 4/10\n",
      "79/79 [==============================] - 33s 419ms/step - loss: 0.0114 - accuracy: 0.9988\n",
      "Epoch 5/10\n",
      "79/79 [==============================] - 33s 414ms/step - loss: 0.0051 - accuracy: 1.0000\n",
      "Epoch 6/10\n",
      "79/79 [==============================] - 33s 412ms/step - loss: 0.0028 - accuracy: 1.0000\n",
      "Epoch 7/10\n",
      "79/79 [==============================] - 33s 415ms/step - loss: 0.0024 - accuracy: 1.0000\n",
      "Epoch 8/10\n",
      "79/79 [==============================] - 33s 417ms/step - loss: 0.0012 - accuracy: 1.0000\n",
      "Epoch 9/10\n",
      "79/79 [==============================] - 33s 418ms/step - loss: 8.9474e-04 - accuracy: 1.0000\n",
      "Epoch 10/10\n",
      "79/79 [==============================] - 33s 416ms/step - loss: 6.3362e-04 - accuracy: 1.0000\n",
      "12/12 [==============================] - 1s 81ms/step - loss: 1.0386 - accuracy: 0.6962\n"
     ]
    },
    {
     "data": {
      "text/plain": [
       "[1.0385990142822266, 0.6962365508079529]"
      ]
     },
     "execution_count": 196,
     "metadata": {},
     "output_type": "execute_result"
    }
   ],
   "source": [
    "cnn4 = keras.Sequential([\n",
    "    keras.layers.AveragePooling2D(pool_size=6, strides=3, padding=\"valid\"),\n",
    "    keras.layers.Conv2D(64, kernel_size=3, activation='relu', input_shape=(train_imgs.shape[1],\n",
    "                                                                           train_imgs.shape[2],\n",
    "                                                                           train_imgs.shape[3])),\n",
    "    keras.layers.Conv2D(32, kernel_size=3, activation='relu'),\n",
    "    keras.layers.MaxPool2D(pool_size=(2, 2),strides=None, padding='valid'),\n",
    "    tf.keras.layers.Dropout(0.4),\n",
    "    keras.layers.Flatten(),\n",
    "    keras.layers.Dense(3, activation='softmax'),\n",
    "])\n",
    "\n",
    "# Compiling model\n",
    "cnn4.compile(optimizer='adam', loss='sparse_categorical_crossentropy', metrics=['accuracy'])\n",
    "\n",
    "# Training model\n",
    "cnn4.fit(train_imgs, train_labels, epochs=10)\n",
    "\n",
    "# Model Evaluation\n",
    "cnn4.evaluate(test_imgs, test_labels)"
   ]
  },
  {
   "cell_type": "code",
   "execution_count": 216,
   "metadata": {},
   "outputs": [
    {
     "name": "stdout",
     "output_type": "stream",
     "text": [
      "12/12 [==============================] - 4s 243ms/step - loss: 1.6611 - accuracy: 0.5672\n",
      "12/12 [==============================] - 2s 113ms/step - loss: 0.9193 - accuracy: 0.6909\n",
      "12/12 [==============================] - 1s 58ms/step - loss: 0.9066 - accuracy: 0.7097\n",
      "12/12 [==============================] - 1s 93ms/step - loss: 1.0386 - accuracy: 0.6962\n"
     ]
    },
    {
     "data": {
      "image/png": "[encoded data removed]",
      "text/plain": [
       "<Figure size 432x288 with 1 Axes>"
      ]
     },
     "metadata": {
      "needs_background": "light"
     },
     "output_type": "display_data"
    }
   ],
   "source": [
    "cnn1_metrics = cnn1_1.evaluate(test_imgs, test_labels)\n",
    "cnn2_metrics = cnn2_s3.evaluate(test_imgs, test_labels)\n",
    "cnn3_metrics = cnn3.evaluate(test_imgs, test_labels)\n",
    "cnn4_metrics = cnn4.evaluate(test_imgs, test_labels)\n",
    "\n",
    "cnn_columns = ['First','Second','Third','Fourth']\n",
    "cnn_metrics = np.vstack((cnn1_metrics,cnn2_metrics,cnn3_metrics,cnn4_metrics))\n",
    "\n",
    "plt.bar(cnn_columns, cnn_metrics[:,1])\n",
    "plt.title('Accuracy of CNN Models')\n",
    "plt.xlabel('CNN Model')\n",
    "plt.ylabel('Accuracy')\n",
    "plt.show()"
   ]
  },
  {
   "cell_type": "code",
   "execution_count": null,
   "metadata": {},
   "outputs": [],
   "source": []
  }
 ],
 "metadata": {
  "accelerator": "GPU",
  "colab": {
   "collapsed_sections": [],
   "name": "Assignment3.ipynb",
   "provenance": []
  },
  "kernelspec": {
   "display_name": "Python 3 (ipykernel)",
   "language": "python",
   "name": "python3"
  },
  "language_info": {
   "codemirror_mode": {
    "name": "ipython",
    "version": 3
   },
   "file_extension": ".py",
   "mimetype": "text/x-python",
   "name": "python",
   "nbconvert_exporter": "python",
   "pygments_lexer": "ipython3",
   "version": "3.9.7"
  },
  "varInspector": {
   "cols": {
    "lenName": 16,
    "lenType": 16,
    "lenVar": 40
   },
   "kernels_config": {
    "python": {
     "delete_cmd_postfix": "",
     "delete_cmd_prefix": "del ",
     "library": "var_list.py",
     "varRefreshCmd": "print(var_dic_list())"
    },
    "r": {
     "delete_cmd_postfix": ") ",
     "delete_cmd_prefix": "rm(",
     "library": "var_list.r",
     "varRefreshCmd": "cat(var_dic_list()) "
    }
   },
   "oldHeight": 264.844,
   "position": {
    "height": "286.844px",
    "left": "1464px",
    "right": "20px",
    "top": "118px",
    "width": "443px"
   },
   "types_to_exclude": [
    "module",
    "function",
    "builtin_function_or_method",
    "instance",
    "_Feature"
   ],
   "varInspector_section_display": "block",
   "window_display": true
  }
 },
 "nbformat": 4,
 "nbformat_minor": 1
}
